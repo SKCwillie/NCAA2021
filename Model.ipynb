{
 "cells": [
  {
   "cell_type": "code",
   "execution_count": 2,
   "metadata": {
    "pycharm": {
     "name": "#%%\n"
    }
   },
   "outputs": [],
   "source": [
    "import pandas as pd\n",
    "import numpy as np\n",
    "import matplotlib.pyplot as plt\n",
    "from sklearn.preprocessing import MinMaxScaler\n",
    "from sklearn.svm import SVR\n",
    "from sklearn.multioutput import MultiOutputRegressor"
   ]
  },
  {
   "cell_type": "code",
   "execution_count": 3,
   "metadata": {
    "pycharm": {
     "name": "#%%\n"
    }
   },
   "outputs": [
    {
     "data": {
      "text/html": [
       "<div>\n",
       "<style scoped>\n",
       "    .dataframe tbody tr th:only-of-type {\n",
       "        vertical-align: middle;\n",
       "    }\n",
       "\n",
       "    .dataframe tbody tr th {\n",
       "        vertical-align: top;\n",
       "    }\n",
       "\n",
       "    .dataframe thead th {\n",
       "        text-align: right;\n",
       "    }\n",
       "</style>\n",
       "<table border=\"1\" class=\"dataframe\">\n",
       "  <thead>\n",
       "    <tr style=\"text-align: right;\">\n",
       "      <th></th>\n",
       "      <th>Season</th>\n",
       "      <th>Team1</th>\n",
       "      <th>Team2</th>\n",
       "      <th>Team1 Rank</th>\n",
       "      <th>Team2 Rank</th>\n",
       "      <th>Team1 Win%</th>\n",
       "      <th>Team2 Win%</th>\n",
       "      <th>Team1 Avg Pts</th>\n",
       "      <th>Team2 Avg Pts</th>\n",
       "      <th>Team1 Avg Pts A</th>\n",
       "      <th>...</th>\n",
       "      <th>Team1 DR</th>\n",
       "      <th>Team2 DR</th>\n",
       "      <th>Team1 DR A</th>\n",
       "      <th>Team2 DR A</th>\n",
       "      <th>Team1 TO</th>\n",
       "      <th>Team2 TO</th>\n",
       "      <th>Team1 TA</th>\n",
       "      <th>Team2 TA</th>\n",
       "      <th>Team1 Pts</th>\n",
       "      <th>Team2 Pts</th>\n",
       "    </tr>\n",
       "  </thead>\n",
       "  <tbody>\n",
       "    <tr>\n",
       "      <th>0</th>\n",
       "      <td>2003</td>\n",
       "      <td>1411</td>\n",
       "      <td>1421</td>\n",
       "      <td>236.217500</td>\n",
       "      <td>241.370000</td>\n",
       "      <td>0.600000</td>\n",
       "      <td>0.448276</td>\n",
       "      <td>72.800000</td>\n",
       "      <td>71.206897</td>\n",
       "      <td>70.833333</td>\n",
       "      <td>...</td>\n",
       "      <td>24.800000</td>\n",
       "      <td>23.172414</td>\n",
       "      <td>22.866667</td>\n",
       "      <td>22.827586</td>\n",
       "      <td>15.233333</td>\n",
       "      <td>16.206897</td>\n",
       "      <td>14.333333</td>\n",
       "      <td>12.827586</td>\n",
       "      <td>84</td>\n",
       "      <td>92</td>\n",
       "    </tr>\n",
       "    <tr>\n",
       "      <th>1</th>\n",
       "      <td>2003</td>\n",
       "      <td>1112</td>\n",
       "      <td>1436</td>\n",
       "      <td>3.676744</td>\n",
       "      <td>171.797500</td>\n",
       "      <td>0.892857</td>\n",
       "      <td>0.655172</td>\n",
       "      <td>85.214286</td>\n",
       "      <td>67.793103</td>\n",
       "      <td>70.250000</td>\n",
       "      <td>...</td>\n",
       "      <td>27.642857</td>\n",
       "      <td>25.724138</td>\n",
       "      <td>23.285714</td>\n",
       "      <td>21.862069</td>\n",
       "      <td>14.785714</td>\n",
       "      <td>14.068966</td>\n",
       "      <td>16.857143</td>\n",
       "      <td>13.000000</td>\n",
       "      <td>80</td>\n",
       "      <td>51</td>\n",
       "    </tr>\n",
       "    <tr>\n",
       "      <th>2</th>\n",
       "      <td>2003</td>\n",
       "      <td>1272</td>\n",
       "      <td>1113</td>\n",
       "      <td>42.000000</td>\n",
       "      <td>40.892500</td>\n",
       "      <td>0.793103</td>\n",
       "      <td>0.620690</td>\n",
       "      <td>74.517241</td>\n",
       "      <td>75.965517</td>\n",
       "      <td>65.827586</td>\n",
       "      <td>...</td>\n",
       "      <td>25.965517</td>\n",
       "      <td>23.310345</td>\n",
       "      <td>23.586207</td>\n",
       "      <td>20.551724</td>\n",
       "      <td>13.793103</td>\n",
       "      <td>14.000000</td>\n",
       "      <td>15.068966</td>\n",
       "      <td>15.517241</td>\n",
       "      <td>71</td>\n",
       "      <td>84</td>\n",
       "    </tr>\n",
       "    <tr>\n",
       "      <th>3</th>\n",
       "      <td>2003</td>\n",
       "      <td>1166</td>\n",
       "      <td>1141</td>\n",
       "      <td>16.869767</td>\n",
       "      <td>75.095000</td>\n",
       "      <td>0.878788</td>\n",
       "      <td>0.793103</td>\n",
       "      <td>79.242424</td>\n",
       "      <td>79.344828</td>\n",
       "      <td>64.333333</td>\n",
       "      <td>...</td>\n",
       "      <td>23.181818</td>\n",
       "      <td>23.275862</td>\n",
       "      <td>21.363636</td>\n",
       "      <td>18.896552</td>\n",
       "      <td>13.363636</td>\n",
       "      <td>18.241379</td>\n",
       "      <td>17.060606</td>\n",
       "      <td>16.068966</td>\n",
       "      <td>73</td>\n",
       "      <td>79</td>\n",
       "    </tr>\n",
       "    <tr>\n",
       "      <th>4</th>\n",
       "      <td>2003</td>\n",
       "      <td>1301</td>\n",
       "      <td>1143</td>\n",
       "      <td>55.451613</td>\n",
       "      <td>40.748184</td>\n",
       "      <td>0.600000</td>\n",
       "      <td>0.724138</td>\n",
       "      <td>72.400000</td>\n",
       "      <td>74.482759</td>\n",
       "      <td>68.000000</td>\n",
       "      <td>...</td>\n",
       "      <td>22.033333</td>\n",
       "      <td>24.379310</td>\n",
       "      <td>21.433333</td>\n",
       "      <td>23.000000</td>\n",
       "      <td>14.200000</td>\n",
       "      <td>14.172414</td>\n",
       "      <td>14.633333</td>\n",
       "      <td>14.931034</td>\n",
       "      <td>74</td>\n",
       "      <td>76</td>\n",
       "    </tr>\n",
       "    <tr>\n",
       "      <th>...</th>\n",
       "      <td>...</td>\n",
       "      <td>...</td>\n",
       "      <td>...</td>\n",
       "      <td>...</td>\n",
       "      <td>...</td>\n",
       "      <td>...</td>\n",
       "      <td>...</td>\n",
       "      <td>...</td>\n",
       "      <td>...</td>\n",
       "      <td>...</td>\n",
       "      <td>...</td>\n",
       "      <td>...</td>\n",
       "      <td>...</td>\n",
       "      <td>...</td>\n",
       "      <td>...</td>\n",
       "      <td>...</td>\n",
       "      <td>...</td>\n",
       "      <td>...</td>\n",
       "      <td>...</td>\n",
       "      <td>...</td>\n",
       "      <td>...</td>\n",
       "    </tr>\n",
       "    <tr>\n",
       "      <th>1176</th>\n",
       "      <td>2021</td>\n",
       "      <td>1425</td>\n",
       "      <td>1211</td>\n",
       "      <td>22.856918</td>\n",
       "      <td>1.500747</td>\n",
       "      <td>0.758621</td>\n",
       "      <td>1.000000</td>\n",
       "      <td>74.758621</td>\n",
       "      <td>92.115385</td>\n",
       "      <td>65.103448</td>\n",
       "      <td>...</td>\n",
       "      <td>25.827586</td>\n",
       "      <td>27.269231</td>\n",
       "      <td>21.068966</td>\n",
       "      <td>20.884615</td>\n",
       "      <td>12.103448</td>\n",
       "      <td>11.923077</td>\n",
       "      <td>11.000000</td>\n",
       "      <td>14.461538</td>\n",
       "      <td>66</td>\n",
       "      <td>85</td>\n",
       "    </tr>\n",
       "    <tr>\n",
       "      <th>1177</th>\n",
       "      <td>2021</td>\n",
       "      <td>1417</td>\n",
       "      <td>1276</td>\n",
       "      <td>38.442700</td>\n",
       "      <td>6.533835</td>\n",
       "      <td>0.653846</td>\n",
       "      <td>0.833333</td>\n",
       "      <td>72.846154</td>\n",
       "      <td>76.250000</td>\n",
       "      <td>68.500000</td>\n",
       "      <td>...</td>\n",
       "      <td>24.192308</td>\n",
       "      <td>27.083333</td>\n",
       "      <td>21.461538</td>\n",
       "      <td>21.166667</td>\n",
       "      <td>10.884615</td>\n",
       "      <td>10.666667</td>\n",
       "      <td>11.153846</td>\n",
       "      <td>9.500000</td>\n",
       "      <td>51</td>\n",
       "      <td>49</td>\n",
       "    </tr>\n",
       "    <tr>\n",
       "      <th>1178</th>\n",
       "      <td>2021</td>\n",
       "      <td>1124</td>\n",
       "      <td>1222</td>\n",
       "      <td>2.440957</td>\n",
       "      <td>6.653214</td>\n",
       "      <td>0.916667</td>\n",
       "      <td>0.884615</td>\n",
       "      <td>84.375000</td>\n",
       "      <td>76.307692</td>\n",
       "      <td>66.416667</td>\n",
       "      <td>...</td>\n",
       "      <td>22.375000</td>\n",
       "      <td>24.769231</td>\n",
       "      <td>20.125000</td>\n",
       "      <td>19.653846</td>\n",
       "      <td>12.166667</td>\n",
       "      <td>10.153846</td>\n",
       "      <td>16.833333</td>\n",
       "      <td>13.807692</td>\n",
       "      <td>78</td>\n",
       "      <td>59</td>\n",
       "    </tr>\n",
       "    <tr>\n",
       "      <th>1179</th>\n",
       "      <td>2021</td>\n",
       "      <td>1211</td>\n",
       "      <td>1417</td>\n",
       "      <td>1.500747</td>\n",
       "      <td>38.442700</td>\n",
       "      <td>1.000000</td>\n",
       "      <td>0.653846</td>\n",
       "      <td>92.115385</td>\n",
       "      <td>72.846154</td>\n",
       "      <td>69.115385</td>\n",
       "      <td>...</td>\n",
       "      <td>27.269231</td>\n",
       "      <td>24.192308</td>\n",
       "      <td>20.884615</td>\n",
       "      <td>21.461538</td>\n",
       "      <td>11.923077</td>\n",
       "      <td>10.884615</td>\n",
       "      <td>14.461538</td>\n",
       "      <td>11.153846</td>\n",
       "      <td>93</td>\n",
       "      <td>90</td>\n",
       "    </tr>\n",
       "    <tr>\n",
       "      <th>1180</th>\n",
       "      <td>2021</td>\n",
       "      <td>1124</td>\n",
       "      <td>1211</td>\n",
       "      <td>2.440957</td>\n",
       "      <td>1.500747</td>\n",
       "      <td>0.916667</td>\n",
       "      <td>1.000000</td>\n",
       "      <td>84.375000</td>\n",
       "      <td>92.115385</td>\n",
       "      <td>66.416667</td>\n",
       "      <td>...</td>\n",
       "      <td>22.375000</td>\n",
       "      <td>27.269231</td>\n",
       "      <td>20.125000</td>\n",
       "      <td>20.884615</td>\n",
       "      <td>12.166667</td>\n",
       "      <td>11.923077</td>\n",
       "      <td>16.833333</td>\n",
       "      <td>14.461538</td>\n",
       "      <td>86</td>\n",
       "      <td>70</td>\n",
       "    </tr>\n",
       "  </tbody>\n",
       "</table>\n",
       "<p>1181 rows × 37 columns</p>\n",
       "</div>"
      ],
      "text/plain": [
       "      Season  Team1  Team2  Team1 Rank  Team2 Rank  Team1 Win%  Team2 Win%  \\\n",
       "0       2003   1411   1421  236.217500  241.370000    0.600000    0.448276   \n",
       "1       2003   1112   1436    3.676744  171.797500    0.892857    0.655172   \n",
       "2       2003   1272   1113   42.000000   40.892500    0.793103    0.620690   \n",
       "3       2003   1166   1141   16.869767   75.095000    0.878788    0.793103   \n",
       "4       2003   1301   1143   55.451613   40.748184    0.600000    0.724138   \n",
       "...      ...    ...    ...         ...         ...         ...         ...   \n",
       "1176    2021   1425   1211   22.856918    1.500747    0.758621    1.000000   \n",
       "1177    2021   1417   1276   38.442700    6.533835    0.653846    0.833333   \n",
       "1178    2021   1124   1222    2.440957    6.653214    0.916667    0.884615   \n",
       "1179    2021   1211   1417    1.500747   38.442700    1.000000    0.653846   \n",
       "1180    2021   1124   1211    2.440957    1.500747    0.916667    1.000000   \n",
       "\n",
       "      Team1 Avg Pts  Team2 Avg Pts  Team1 Avg Pts A  ...   Team1 DR  \\\n",
       "0         72.800000      71.206897        70.833333  ...  24.800000   \n",
       "1         85.214286      67.793103        70.250000  ...  27.642857   \n",
       "2         74.517241      75.965517        65.827586  ...  25.965517   \n",
       "3         79.242424      79.344828        64.333333  ...  23.181818   \n",
       "4         72.400000      74.482759        68.000000  ...  22.033333   \n",
       "...             ...            ...              ...  ...        ...   \n",
       "1176      74.758621      92.115385        65.103448  ...  25.827586   \n",
       "1177      72.846154      76.250000        68.500000  ...  24.192308   \n",
       "1178      84.375000      76.307692        66.416667  ...  22.375000   \n",
       "1179      92.115385      72.846154        69.115385  ...  27.269231   \n",
       "1180      84.375000      92.115385        66.416667  ...  22.375000   \n",
       "\n",
       "       Team2 DR  Team1 DR A  Team2 DR A   Team1 TO   Team2 TO   Team1 TA  \\\n",
       "0     23.172414   22.866667   22.827586  15.233333  16.206897  14.333333   \n",
       "1     25.724138   23.285714   21.862069  14.785714  14.068966  16.857143   \n",
       "2     23.310345   23.586207   20.551724  13.793103  14.000000  15.068966   \n",
       "3     23.275862   21.363636   18.896552  13.363636  18.241379  17.060606   \n",
       "4     24.379310   21.433333   23.000000  14.200000  14.172414  14.633333   \n",
       "...         ...         ...         ...        ...        ...        ...   \n",
       "1176  27.269231   21.068966   20.884615  12.103448  11.923077  11.000000   \n",
       "1177  27.083333   21.461538   21.166667  10.884615  10.666667  11.153846   \n",
       "1178  24.769231   20.125000   19.653846  12.166667  10.153846  16.833333   \n",
       "1179  24.192308   20.884615   21.461538  11.923077  10.884615  14.461538   \n",
       "1180  27.269231   20.125000   20.884615  12.166667  11.923077  16.833333   \n",
       "\n",
       "       Team2 TA  Team1 Pts  Team2 Pts  \n",
       "0     12.827586         84         92  \n",
       "1     13.000000         80         51  \n",
       "2     15.517241         71         84  \n",
       "3     16.068966         73         79  \n",
       "4     14.931034         74         76  \n",
       "...         ...        ...        ...  \n",
       "1176  14.461538         66         85  \n",
       "1177   9.500000         51         49  \n",
       "1178  13.807692         78         59  \n",
       "1179  11.153846         93         90  \n",
       "1180  14.461538         86         70  \n",
       "\n",
       "[1181 rows x 37 columns]"
      ]
     },
     "execution_count": 3,
     "metadata": {},
     "output_type": "execute_result"
    }
   ],
   "source": [
    "ROOT = '/home/robert/DataSpellProjects/marchMadness/Data'\n",
    "Train = pd.read_csv(f'{ROOT}/Train.csv')\n",
    "TeamIDs = pd.read_csv(f'{ROOT}/MTeams.csv')\n",
    "Rankings = pd.read_csv(f'{ROOT}/MMasseyOrdinals.csv')\n",
    "Train.drop(columns=['Unnamed: 0'], inplace=True)\n",
    "Train"
   ]
  },
  {
   "cell_type": "code",
   "execution_count": 4,
   "metadata": {
    "pycharm": {
     "name": "#%%\n"
    }
   },
   "outputs": [],
   "source": [
    "def get_team_name(team_id):\n",
    "    return TeamIDs.loc[TeamIDs['TeamID']==team_id]['TeamName'].values[0]"
   ]
  },
  {
   "cell_type": "code",
   "execution_count": 5,
   "metadata": {
    "pycharm": {
     "name": "#%%\n"
    }
   },
   "outputs": [],
   "source": [
    "def get_team_id(team_name):\n",
    "    return TeamIDs.loc[TeamIDs['TeamName']==team_name]['TeamID'].values[0]"
   ]
  },
  {
   "cell_type": "markdown",
   "metadata": {
    "pycharm": {
     "name": "#%% md\n"
    }
   },
   "source": [
    "## Find and Fix Skewed Features"
   ]
  },
  {
   "cell_type": "code",
   "execution_count": 6,
   "metadata": {
    "pycharm": {
     "name": "#%%\n"
    }
   },
   "outputs": [
    {
     "name": "stdout",
     "output_type": "stream",
     "text": [
      "Team1 Rank: 2.22\n",
      "Team2 Rank: 2.137\n"
     ]
    }
   ],
   "source": [
    "for col in Train.columns:\n",
    "    skew = Train[col].skew()\n",
    "    if abs(skew) > 1:\n",
    "        print(f'{col}: {round(skew, 3)}')"
   ]
  },
  {
   "cell_type": "markdown",
   "metadata": {
    "pycharm": {
     "name": "#%% md\n"
    }
   },
   "source": [
    "This makes sense, stats like score per game, win%, etc. are expected for fall into a normal distribution. However, the team ranks are an average of polls, rankings, etc. so, they won't fall into a normal distribution."
   ]
  },
  {
   "cell_type": "code",
   "execution_count": 7,
   "metadata": {
    "pycharm": {
     "name": "#%%\n"
    }
   },
   "outputs": [
    {
     "data": {
      "image/png": "[encoded data removed]",
      "text/plain": [
       "<Figure size 432x288 with 1 Axes>"
      ]
     },
     "metadata": {
      "needs_background": "light"
     },
     "output_type": "display_data"
    }
   ],
   "source": [
    "plt.hist(Train['Team1 Rank'], bins=100)\n",
    "plt.show()"
   ]
  },
  {
   "cell_type": "code",
   "execution_count": 8,
   "metadata": {
    "pycharm": {
     "name": "#%%\n"
    }
   },
   "outputs": [],
   "source": [
    "Train['Team1 Rank'] = np.log1p(Train['Team1 Rank'])\n",
    "Train['Team2 Rank'] = np.log1p(Train['Team2 Rank'])"
   ]
  },
  {
   "cell_type": "code",
   "execution_count": 9,
   "metadata": {
    "pycharm": {
     "name": "#%%\n"
    }
   },
   "outputs": [
    {
     "data": {
      "image/png": "[encoded data removed]",
      "text/plain": [
       "<Figure size 432x288 with 1 Axes>"
      ]
     },
     "metadata": {
      "needs_background": "light"
     },
     "output_type": "display_data"
    }
   ],
   "source": [
    "plt.hist(Train['Team1 Rank'], bins=100)\n",
    "plt.show()"
   ]
  },
  {
   "cell_type": "markdown",
   "metadata": {
    "pycharm": {
     "name": "#%% md\n"
    }
   },
   "source": [
    "## Scale & Split Data"
   ]
  },
  {
   "cell_type": "code",
   "execution_count": 10,
   "metadata": {
    "pycharm": {
     "name": "#%%\n"
    }
   },
   "outputs": [],
   "source": [
    "scale_columns = []\n",
    "features = []\n",
    "predict = ['Team1 Pts', 'Team2 Pts']\n",
    "no_scale = ['Season', 'Team1', 'Team2', 'Team1 Pts', 'Team2 Pts']\n",
    "for col in Train.columns:\n",
    "    if col not in no_scale:\n",
    "        features.append(col)\n",
    "        scale_columns.append(col)\n",
    "scaler = MinMaxScaler()\n",
    "Train[scale_columns] = scaler.fit_transform(Train[scale_columns])"
   ]
  },
  {
   "cell_type": "code",
   "execution_count": 11,
   "metadata": {
    "pycharm": {
     "name": "#%%\n"
    }
   },
   "outputs": [],
   "source": [
    "X_train = Train[Train.Season < 2021]\n",
    "X_train = X_train[features]\n",
    "y_train = Train[Train.Season < 2021]\n",
    "y_train = y_train[predict]\n",
    "X_test = Train[Train.Season == 2021]\n",
    "X_test = X_test[features]\n",
    "y_test = Train[Train.Season == 2021]\n",
    "y_test = y_test[predict]"
   ]
  },
  {
   "cell_type": "code",
   "execution_count": 12,
   "metadata": {
    "pycharm": {
     "name": "#%%\n"
    }
   },
   "outputs": [
    {
     "data": {
      "text/plain": [
       "MultiOutputRegressor(estimator=SVR())"
      ]
     },
     "execution_count": 12,
     "metadata": {},
     "output_type": "execute_result"
    }
   ],
   "source": [
    "svr = SVR()\n",
    "regr = MultiOutputRegressor(svr)\n",
    "regr.fit(X_train, y_train)"
   ]
  },
  {
   "cell_type": "code",
   "execution_count": 13,
   "metadata": {
    "pycharm": {
     "name": "#%%\n"
    }
   },
   "outputs": [],
   "source": [
    "def get_winner(team1_name, team2_name, year):\n",
    "    team1 = get_team_id(team1_name)\n",
    "    team2 = get_team_id(team2_name)\n",
    "    team1_cols = []\n",
    "    team2_cols = []\n",
    "    for col in X_train.columns:\n",
    "        if 'Team1' in col:\n",
    "            team1_cols.append(col)\n",
    "        else:\n",
    "            team2_cols.append(col)\n",
    "    row1 = []\n",
    "    row2 = []\n",
    "    return_row = []\n",
    "    #check tha team1 and team2 have data for that year\n",
    "    if (team1 not in Train['Team1'].values) and (team1 not in Train['Team2'].values):\n",
    "        print(\"Can't find team1 data\")\n",
    "        raise IndexError\n",
    "    if (team2 not in Train['Team1'].values) and (team2 not in Train['Team2'].values):\n",
    "        print(\"Can't find team2 data\")\n",
    "        raise IndexError\n",
    "    for col in team1_cols:\n",
    "        try:\n",
    "            row1.append(Train[Train.Season==year].loc[Train['Team1']==team1][col].values[0])\n",
    "        except IndexError:\n",
    "            row1.append(Train[Train.Season==year].loc[Train['Team2']==team1][col].values[0])\n",
    "    for col in team2_cols:\n",
    "        try:\n",
    "            row2.append(Train[Train.Season==year].loc[Train['Team1']==team2][col].values[0])\n",
    "        except IndexError:\n",
    "            row2.append(Train[Train.Season==year].loc[Train['Team2']==team2][col].values[0])\n",
    "    count = 0\n",
    "    for i in range(len(row1)):\n",
    "        return_row.append(row1[count])\n",
    "        return_row.append(row2[count])\n",
    "        count += 1\n",
    "    df = pd.DataFrame([return_row], columns=X_train.columns)\n",
    "    prediction = regr.predict(df)\n",
    "    prediction = pd.DataFrame(prediction, columns=['Team1', 'Team2'])\n",
    "    if prediction['Team1'].values[0] > prediction['Team2'].values[0]:\n",
    "        return team1_name, f\"+{round((prediction['Team1'].values[0]-prediction['Team2'].values[0]) * 2 / 2)}\"\n",
    "    else:\n",
    "        return team2_name, f\"+{round((prediction['Team2'].values[0]-prediction['Team1'].values[0]) * 2 / 2)}\""
   ]
  },
  {
   "cell_type": "code",
   "execution_count": 14,
   "metadata": {
    "pycharm": {
     "name": "#%%\n"
    }
   },
   "outputs": [
    {
     "data": {
      "text/plain": [
       "('Michigan', '+3')"
      ]
     },
     "execution_count": 14,
     "metadata": {},
     "output_type": "execute_result"
    }
   ],
   "source": [
    "get_winner('Michigan', 'LSU', 2021)"
   ]
  },
  {
   "cell_type": "code",
   "execution_count": 14,
   "metadata": {
    "pycharm": {
     "name": "#%%\n"
    }
   },
   "outputs": [],
   "source": []
  }
 ],
 "metadata": {
  "kernelspec": {
   "display_name": "Python 3 (ipykernel)",
   "language": "python",
   "name": "python3"
  },
  "language_info": {
   "codemirror_mode": {
    "name": "ipython",
    "version": 2
   },
   "file_extension": ".py",
   "mimetype": "text/x-python",
   "name": "python",
   "nbconvert_exporter": "python",
   "pygments_lexer": "ipython2",
   "version": "2.7.6"
  }
 },
 "nbformat": 4,
 "nbformat_minor": 1
}
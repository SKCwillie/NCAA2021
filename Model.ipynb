{
 "cells": [
  {
   "cell_type": "code",
   "execution_count": 165,
   "metadata": {
    "pycharm": {
     "name": "#%%\n"
    }
   },
   "outputs": [],
   "source": [
    "import pandas as pd\n",
    "import numpy as np\n",
    "import matplotlib.pyplot as plt\n",
    "from sklearn.preprocessing import MinMaxScaler\n",
    "from sklearn.svm import SVR\n",
    "from sklearn.multioutput import MultiOutputRegressor"
   ]
  },
  {
   "cell_type": "code",
   "execution_count": 166,
   "metadata": {
    "pycharm": {
     "name": "#%%\n"
    }
   },
   "outputs": [
    {
     "data": {
      "text/plain": "        Season  WTeamID  WScore  LTeamID  LScore  WFGM  WFGA  WFGM3  WFGA3  \\\n0         2003     1104      68     1328      62    27    58      3     14   \n1         2003     1272      70     1393      63    26    62      8     20   \n2         2003     1266      73     1437      61    24    58      8     18   \n3         2003     1296      56     1457      50    18    38      3      9   \n4         2003     1400      77     1208      71    30    61      6     14   \n...        ...      ...     ...      ...     ...   ...   ...    ...    ...   \n100418    2022     1400      79     1242      76    28    67      3     20   \n100419    2022     1411      66     1126      63    24    59      2     20   \n100420    2022     1422      68     1441      49    23    56     13     32   \n100421    2022     1438      69     1181      68    31    65      2     12   \n100422    2022     1439      74     1338      47    29    55     13     27   \n\n        WFTM  ...   Team1 DR   Team2 DR  Team1 DR A  Team2 DR A   Team1 TO  \\\n0         11  ...  24.966667  23.928571   22.400000   22.642857  11.800000   \n1         10  ...  25.965517  26.896552   23.586207   22.275862  13.793103   \n2         17  ...  23.700000  24.071429   22.900000   18.571429  16.033333   \n3         17  ...  22.645161  23.964286   20.096774   23.821429  17.000000   \n4         11  ...  26.142857  24.592593   22.000000   23.740741  13.428571   \n...      ...  ...        ...        ...         ...         ...        ...   \n100418    20  ...  24.695652  22.416667   20.173913   19.750000  12.695652   \n100419    16  ...  21.454545  24.900000   24.863636   21.750000  12.772727   \n100420     9  ...  24.708333  23.434783   26.333333   20.478261  12.291667   \n100421     5  ...  21.083333  26.782609   20.875000   21.739130   9.333333   \n100422     3  ...  22.291667  22.791667   20.375000   20.791667  10.875000   \n\n         Team2 TO   Team1 TA   Team2 TA  Team1 Pts  Team2 Pts  \n0       13.285714  13.700000  13.857143         62         68  \n1       13.620690  15.068966  14.448276         70         63  \n2       13.571429  16.966667  12.500000         61         73  \n3       14.642857  14.451613  15.642857         56         50  \n4       11.555556  14.178571  13.444444         77         71  \n...           ...        ...        ...        ...        ...  \n100418  10.958333  12.739130  14.791667         76         79  \n100419  14.300000  12.909091  11.650000         63         66  \n100420  12.913043   9.916667  11.608696         49         68  \n100421  10.434783  10.375000  11.695652         69         68  \n100422  12.875000  11.708333   9.833333         74         47  \n\n[100423 rows x 67 columns]",
      "text/html": "<div>\n<style scoped>\n    .dataframe tbody tr th:only-of-type {\n        vertical-align: middle;\n    }\n\n    .dataframe tbody tr th {\n        vertical-align: top;\n    }\n\n    .dataframe thead th {\n        text-align: right;\n    }\n</style>\n<table border=\"1\" class=\"dataframe\">\n  <thead>\n    <tr style=\"text-align: right;\">\n      <th></th>\n      <th>Season</th>\n      <th>WTeamID</th>\n      <th>WScore</th>\n      <th>LTeamID</th>\n      <th>LScore</th>\n      <th>WFGM</th>\n      <th>WFGA</th>\n      <th>WFGM3</th>\n      <th>WFGA3</th>\n      <th>WFTM</th>\n      <th>...</th>\n      <th>Team1 DR</th>\n      <th>Team2 DR</th>\n      <th>Team1 DR A</th>\n      <th>Team2 DR A</th>\n      <th>Team1 TO</th>\n      <th>Team2 TO</th>\n      <th>Team1 TA</th>\n      <th>Team2 TA</th>\n      <th>Team1 Pts</th>\n      <th>Team2 Pts</th>\n    </tr>\n  </thead>\n  <tbody>\n    <tr>\n      <th>0</th>\n      <td>2003</td>\n      <td>1104</td>\n      <td>68</td>\n      <td>1328</td>\n      <td>62</td>\n      <td>27</td>\n      <td>58</td>\n      <td>3</td>\n      <td>14</td>\n      <td>11</td>\n      <td>...</td>\n      <td>24.966667</td>\n      <td>23.928571</td>\n      <td>22.400000</td>\n      <td>22.642857</td>\n      <td>11.800000</td>\n      <td>13.285714</td>\n      <td>13.700000</td>\n      <td>13.857143</td>\n      <td>62</td>\n      <td>68</td>\n    </tr>\n    <tr>\n      <th>1</th>\n      <td>2003</td>\n      <td>1272</td>\n      <td>70</td>\n      <td>1393</td>\n      <td>63</td>\n      <td>26</td>\n      <td>62</td>\n      <td>8</td>\n      <td>20</td>\n      <td>10</td>\n      <td>...</td>\n      <td>25.965517</td>\n      <td>26.896552</td>\n      <td>23.586207</td>\n      <td>22.275862</td>\n      <td>13.793103</td>\n      <td>13.620690</td>\n      <td>15.068966</td>\n      <td>14.448276</td>\n      <td>70</td>\n      <td>63</td>\n    </tr>\n    <tr>\n      <th>2</th>\n      <td>2003</td>\n      <td>1266</td>\n      <td>73</td>\n      <td>1437</td>\n      <td>61</td>\n      <td>24</td>\n      <td>58</td>\n      <td>8</td>\n      <td>18</td>\n      <td>17</td>\n      <td>...</td>\n      <td>23.700000</td>\n      <td>24.071429</td>\n      <td>22.900000</td>\n      <td>18.571429</td>\n      <td>16.033333</td>\n      <td>13.571429</td>\n      <td>16.966667</td>\n      <td>12.500000</td>\n      <td>61</td>\n      <td>73</td>\n    </tr>\n    <tr>\n      <th>3</th>\n      <td>2003</td>\n      <td>1296</td>\n      <td>56</td>\n      <td>1457</td>\n      <td>50</td>\n      <td>18</td>\n      <td>38</td>\n      <td>3</td>\n      <td>9</td>\n      <td>17</td>\n      <td>...</td>\n      <td>22.645161</td>\n      <td>23.964286</td>\n      <td>20.096774</td>\n      <td>23.821429</td>\n      <td>17.000000</td>\n      <td>14.642857</td>\n      <td>14.451613</td>\n      <td>15.642857</td>\n      <td>56</td>\n      <td>50</td>\n    </tr>\n    <tr>\n      <th>4</th>\n      <td>2003</td>\n      <td>1400</td>\n      <td>77</td>\n      <td>1208</td>\n      <td>71</td>\n      <td>30</td>\n      <td>61</td>\n      <td>6</td>\n      <td>14</td>\n      <td>11</td>\n      <td>...</td>\n      <td>26.142857</td>\n      <td>24.592593</td>\n      <td>22.000000</td>\n      <td>23.740741</td>\n      <td>13.428571</td>\n      <td>11.555556</td>\n      <td>14.178571</td>\n      <td>13.444444</td>\n      <td>77</td>\n      <td>71</td>\n    </tr>\n    <tr>\n      <th>...</th>\n      <td>...</td>\n      <td>...</td>\n      <td>...</td>\n      <td>...</td>\n      <td>...</td>\n      <td>...</td>\n      <td>...</td>\n      <td>...</td>\n      <td>...</td>\n      <td>...</td>\n      <td>...</td>\n      <td>...</td>\n      <td>...</td>\n      <td>...</td>\n      <td>...</td>\n      <td>...</td>\n      <td>...</td>\n      <td>...</td>\n      <td>...</td>\n      <td>...</td>\n      <td>...</td>\n    </tr>\n    <tr>\n      <th>100418</th>\n      <td>2022</td>\n      <td>1400</td>\n      <td>79</td>\n      <td>1242</td>\n      <td>76</td>\n      <td>28</td>\n      <td>67</td>\n      <td>3</td>\n      <td>20</td>\n      <td>20</td>\n      <td>...</td>\n      <td>24.695652</td>\n      <td>22.416667</td>\n      <td>20.173913</td>\n      <td>19.750000</td>\n      <td>12.695652</td>\n      <td>10.958333</td>\n      <td>12.739130</td>\n      <td>14.791667</td>\n      <td>76</td>\n      <td>79</td>\n    </tr>\n    <tr>\n      <th>100419</th>\n      <td>2022</td>\n      <td>1411</td>\n      <td>66</td>\n      <td>1126</td>\n      <td>63</td>\n      <td>24</td>\n      <td>59</td>\n      <td>2</td>\n      <td>20</td>\n      <td>16</td>\n      <td>...</td>\n      <td>21.454545</td>\n      <td>24.900000</td>\n      <td>24.863636</td>\n      <td>21.750000</td>\n      <td>12.772727</td>\n      <td>14.300000</td>\n      <td>12.909091</td>\n      <td>11.650000</td>\n      <td>63</td>\n      <td>66</td>\n    </tr>\n    <tr>\n      <th>100420</th>\n      <td>2022</td>\n      <td>1422</td>\n      <td>68</td>\n      <td>1441</td>\n      <td>49</td>\n      <td>23</td>\n      <td>56</td>\n      <td>13</td>\n      <td>32</td>\n      <td>9</td>\n      <td>...</td>\n      <td>24.708333</td>\n      <td>23.434783</td>\n      <td>26.333333</td>\n      <td>20.478261</td>\n      <td>12.291667</td>\n      <td>12.913043</td>\n      <td>9.916667</td>\n      <td>11.608696</td>\n      <td>49</td>\n      <td>68</td>\n    </tr>\n    <tr>\n      <th>100421</th>\n      <td>2022</td>\n      <td>1438</td>\n      <td>69</td>\n      <td>1181</td>\n      <td>68</td>\n      <td>31</td>\n      <td>65</td>\n      <td>2</td>\n      <td>12</td>\n      <td>5</td>\n      <td>...</td>\n      <td>21.083333</td>\n      <td>26.782609</td>\n      <td>20.875000</td>\n      <td>21.739130</td>\n      <td>9.333333</td>\n      <td>10.434783</td>\n      <td>10.375000</td>\n      <td>11.695652</td>\n      <td>69</td>\n      <td>68</td>\n    </tr>\n    <tr>\n      <th>100422</th>\n      <td>2022</td>\n      <td>1439</td>\n      <td>74</td>\n      <td>1338</td>\n      <td>47</td>\n      <td>29</td>\n      <td>55</td>\n      <td>13</td>\n      <td>27</td>\n      <td>3</td>\n      <td>...</td>\n      <td>22.291667</td>\n      <td>22.791667</td>\n      <td>20.375000</td>\n      <td>20.791667</td>\n      <td>10.875000</td>\n      <td>12.875000</td>\n      <td>11.708333</td>\n      <td>9.833333</td>\n      <td>74</td>\n      <td>47</td>\n    </tr>\n  </tbody>\n</table>\n<p>100423 rows × 67 columns</p>\n</div>"
     },
     "execution_count": 166,
     "metadata": {},
     "output_type": "execute_result"
    }
   ],
   "source": [
    "ROOT = '/home/robert/Projects/NCAA2021'\n",
    "Train = pd.read_csv(f'{ROOT}/Data/Train.csv')\n",
    "TeamIDs = pd.read_csv(f'{ROOT}/Data/MTeams.csv')\n",
    "Rankings = pd.read_csv(f'{ROOT}/Data/MMasseyOrdinals.csv')\n",
    "Train.drop(columns=['Unnamed: 0'], inplace=True)\n",
    "CURRENT_YEAR = 2022\n",
    "Train"
   ]
  },
  {
   "cell_type": "code",
   "execution_count": 167,
   "metadata": {
    "pycharm": {
     "name": "#%%\n"
    }
   },
   "outputs": [],
   "source": [
    "def get_team_name(team_id):\n",
    "    return TeamIDs.loc[TeamIDs['TeamID']==team_id]['TeamName'].values[0]"
   ]
  },
  {
   "cell_type": "code",
   "execution_count": 168,
   "metadata": {
    "pycharm": {
     "name": "#%%\n"
    }
   },
   "outputs": [],
   "source": [
    "def get_team_id(team_name):\n",
    "    return TeamIDs.loc[TeamIDs['TeamName']==team_name]['TeamID'].values[0]"
   ]
  },
  {
   "cell_type": "markdown",
   "metadata": {
    "pycharm": {
     "name": "#%% md\n"
    }
   },
   "source": [
    "## Find and Fix Skewed Features"
   ]
  },
  {
   "cell_type": "code",
   "execution_count": 169,
   "metadata": {
    "pycharm": {
     "name": "#%%\n"
    }
   },
   "outputs": [],
   "source": [
    "for col in Train.columns:\n",
    "    skew = Train[col].skew()\n",
    "    if abs(skew) > 1:\n",
    "        print(f'{col}: {round(skew, 3)}')"
   ]
  },
  {
   "cell_type": "markdown",
   "metadata": {
    "pycharm": {
     "name": "#%% md\n"
    }
   },
   "source": [
    "This makes sense, stats like score per game, win%, etc. are expected for fall into a normal distribution. However, the team ranks are an average of polls, rankings, etc. so, they won't fall into a normal distribution."
   ]
  },
  {
   "cell_type": "code",
   "execution_count": 170,
   "metadata": {
    "pycharm": {
     "name": "#%%\n"
    }
   },
   "outputs": [
    {
     "data": {
      "text/plain": "<Figure size 432x288 with 1 Axes>",
      "image/png": "[encoded data removed]"
     },
     "metadata": {
      "needs_background": "light"
     },
     "output_type": "display_data"
    }
   ],
   "source": [
    "plt.hist(Train['Team1 Rank'], bins=100)\n",
    "plt.show()"
   ]
  },
  {
   "cell_type": "code",
   "execution_count": 170,
   "metadata": {
    "pycharm": {
     "name": "#%%\n"
    }
   },
   "outputs": [],
   "source": []
  },
  {
   "cell_type": "code",
   "execution_count": 171,
   "metadata": {
    "pycharm": {
     "name": "#%%\n"
    }
   },
   "outputs": [
    {
     "data": {
      "text/plain": "<Figure size 432x288 with 1 Axes>",
      "image/png": "[encoded data removed]"
     },
     "metadata": {
      "needs_background": "light"
     },
     "output_type": "display_data"
    }
   ],
   "source": [
    "plt.hist(Train['Team1 Rank'], bins=100)\n",
    "plt.show()"
   ]
  },
  {
   "cell_type": "markdown",
   "metadata": {
    "pycharm": {
     "name": "#%% md\n"
    }
   },
   "source": [
    "## Scale & Split Data"
   ]
  },
  {
   "cell_type": "code",
   "execution_count": 172,
   "metadata": {
    "pycharm": {
     "name": "#%%\n"
    }
   },
   "outputs": [],
   "source": [
    "scale_columns = []\n",
    "features = []\n",
    "predict = ['Team1 Pts', 'Team2 Pts']\n",
    "no_scale = ['Season', 'Team1', 'Team2', 'Team1 Pts', 'Team2 Pts']\n",
    "for col in Train.columns:\n",
    "    if col not in no_scale and ('Team1' in col or 'Team2' in col):\n",
    "        features.append(col)\n",
    "        scale_columns.append(col)\n",
    "scaler = MinMaxScaler()\n",
    "Train[scale_columns] = scaler.fit_transform(Train[scale_columns])"
   ]
  },
  {
   "cell_type": "code",
   "execution_count": 173,
   "metadata": {
    "pycharm": {
     "name": "#%%\n"
    }
   },
   "outputs": [],
   "source": [
    "X_train = Train[Train.Season < CURRENT_YEAR]\n",
    "X_train = X_train[features]\n",
    "y_train = Train[Train.Season < CURRENT_YEAR]\n",
    "y_train = y_train[predict]\n",
    "X_test = Train[Train.Season == CURRENT_YEAR]\n",
    "X_test = X_test[features]\n",
    "y_test = Train[Train.Season == CURRENT_YEAR]\n",
    "y_test = y_test[predict]"
   ]
  },
  {
   "cell_type": "code",
   "execution_count": 174,
   "metadata": {
    "pycharm": {
     "name": "#%%\n"
    }
   },
   "outputs": [
    {
     "data": {
      "text/plain": "        Team1 Rank  Team2 Rank  Team1 Win%  Team2 Win%  Team1 Avg Pts  \\\n96687     0.256009    0.039819    0.700000    0.608696       0.581062   \n96688     0.874034    0.941257    0.363636    0.238095       0.422748   \n96689     0.610595    0.894552    0.380952    0.272727       0.435928   \n96690     0.012201    0.838362    0.909091    0.285714       0.775103   \n96691     0.375981    0.680410    0.333333    0.454545       0.322823   \n...            ...         ...         ...         ...            ...   \n100418    0.017179    0.061056    0.826087    0.750000       0.664195   \n100419    0.925236    0.585218    0.227273    0.500000       0.236265   \n100420    0.756872    0.476345    0.333333    0.565217       0.468060   \n100421    0.222725    0.025502    0.625000    0.826087       0.307014   \n100422    0.142708    0.520576    0.583333    0.333333       0.468060   \n\n        Team2 Avg Pts  Team1 Avg Pts A  Team2 Avg Pts A  Team1 Fg%  Team2 Fg%  \\\n96687        0.668889         0.405444         0.526110   0.542345   0.472425   \n96688        0.188125         0.465760         0.362787   0.430696   0.160681   \n96689        0.311839         0.373750         0.477177   0.481189   0.512745   \n96690        0.360867         0.307834         0.530226   0.679125   0.301383   \n96691        0.438452         0.408633         0.459101   0.222386   0.370259   \n...               ...              ...              ...        ...        ...   \n100418       0.419476         0.373230         0.112250   0.735549   0.540338   \n100419       0.401842         0.399165         0.324863   0.302076   0.414863   \n100420       0.304628         0.598000         0.291330   0.260529   0.389305   \n100421       0.667950         0.197714         0.304070   0.553303   0.681751   \n100422       0.271925         0.242190         0.346840   0.657961   0.348979   \n\n        ...  Team1 OR A  Team2 OR A  Team1 DR  Team2 DR  Team1 DR A  \\\n96687   ...    0.354226    0.455574  0.605355  0.606182    0.460387   \n96688   ...    0.242406    0.369381  0.458877  0.403268    0.342990   \n96689   ...    0.254694    0.203308  0.557325  0.346423    0.469316   \n96690   ...    0.426165    0.197351  0.882741  0.581491    0.254161   \n96691   ...    0.447204    0.340150  0.530139  0.605932    0.662978   \n...     ...         ...         ...       ...       ...         ...   \n100418  ...    0.294763    0.245990  0.592392  0.447824    0.234538   \n100419  ...    0.316692    0.272511  0.386791  0.605355    0.482234   \n100420  ...    0.324837    0.118993  0.593196  0.512408    0.559859   \n100421  ...    0.210150    0.399477  0.363243  0.724779    0.271567   \n100422  ...    0.206566    0.199398  0.439894  0.471612    0.245158   \n\n        Team2 DR A  Team1 TO  Team2 TO  Team1 TA  Team2 TA  \n96687     0.392988  0.251963  0.393307  0.371596  0.335923  \n96688     0.542254  0.418450  0.433233  0.314341  0.395258  \n96689     0.407810  0.315256  0.327141  0.252184  0.227672  \n96690     0.489437  0.406275  0.385405  0.351110  0.117365  \n96691     0.482234  0.273805  0.397144  0.345732  0.282825  \n...            ...       ...       ...       ...       ...  \n100418    0.212148  0.355460  0.239129  0.333411  0.452006  \n100419    0.317782  0.360621  0.462887  0.343231  0.270481  \n100420    0.250612  0.328409  0.370016  0.170330  0.268095  \n100421    0.317208  0.130320  0.204072  0.196812  0.273119  \n100422    0.267165  0.233549  0.367469  0.273852  0.165515  \n\n[3736 rows x 32 columns]",
      "text/html": "<div>\n<style scoped>\n    .dataframe tbody tr th:only-of-type {\n        vertical-align: middle;\n    }\n\n    .dataframe tbody tr th {\n        vertical-align: top;\n    }\n\n    .dataframe thead th {\n        text-align: right;\n    }\n</style>\n<table border=\"1\" class=\"dataframe\">\n  <thead>\n    <tr style=\"text-align: right;\">\n      <th></th>\n      <th>Team1 Rank</th>\n      <th>Team2 Rank</th>\n      <th>Team1 Win%</th>\n      <th>Team2 Win%</th>\n      <th>Team1 Avg Pts</th>\n      <th>Team2 Avg Pts</th>\n      <th>Team1 Avg Pts A</th>\n      <th>Team2 Avg Pts A</th>\n      <th>Team1 Fg%</th>\n      <th>Team2 Fg%</th>\n      <th>...</th>\n      <th>Team1 OR A</th>\n      <th>Team2 OR A</th>\n      <th>Team1 DR</th>\n      <th>Team2 DR</th>\n      <th>Team1 DR A</th>\n      <th>Team2 DR A</th>\n      <th>Team1 TO</th>\n      <th>Team2 TO</th>\n      <th>Team1 TA</th>\n      <th>Team2 TA</th>\n    </tr>\n  </thead>\n  <tbody>\n    <tr>\n      <th>96687</th>\n      <td>0.256009</td>\n      <td>0.039819</td>\n      <td>0.700000</td>\n      <td>0.608696</td>\n      <td>0.581062</td>\n      <td>0.668889</td>\n      <td>0.405444</td>\n      <td>0.526110</td>\n      <td>0.542345</td>\n      <td>0.472425</td>\n      <td>...</td>\n      <td>0.354226</td>\n      <td>0.455574</td>\n      <td>0.605355</td>\n      <td>0.606182</td>\n      <td>0.460387</td>\n      <td>0.392988</td>\n      <td>0.251963</td>\n      <td>0.393307</td>\n      <td>0.371596</td>\n      <td>0.335923</td>\n    </tr>\n    <tr>\n      <th>96688</th>\n      <td>0.874034</td>\n      <td>0.941257</td>\n      <td>0.363636</td>\n      <td>0.238095</td>\n      <td>0.422748</td>\n      <td>0.188125</td>\n      <td>0.465760</td>\n      <td>0.362787</td>\n      <td>0.430696</td>\n      <td>0.160681</td>\n      <td>...</td>\n      <td>0.242406</td>\n      <td>0.369381</td>\n      <td>0.458877</td>\n      <td>0.403268</td>\n      <td>0.342990</td>\n      <td>0.542254</td>\n      <td>0.418450</td>\n      <td>0.433233</td>\n      <td>0.314341</td>\n      <td>0.395258</td>\n    </tr>\n    <tr>\n      <th>96689</th>\n      <td>0.610595</td>\n      <td>0.894552</td>\n      <td>0.380952</td>\n      <td>0.272727</td>\n      <td>0.435928</td>\n      <td>0.311839</td>\n      <td>0.373750</td>\n      <td>0.477177</td>\n      <td>0.481189</td>\n      <td>0.512745</td>\n      <td>...</td>\n      <td>0.254694</td>\n      <td>0.203308</td>\n      <td>0.557325</td>\n      <td>0.346423</td>\n      <td>0.469316</td>\n      <td>0.407810</td>\n      <td>0.315256</td>\n      <td>0.327141</td>\n      <td>0.252184</td>\n      <td>0.227672</td>\n    </tr>\n    <tr>\n      <th>96690</th>\n      <td>0.012201</td>\n      <td>0.838362</td>\n      <td>0.909091</td>\n      <td>0.285714</td>\n      <td>0.775103</td>\n      <td>0.360867</td>\n      <td>0.307834</td>\n      <td>0.530226</td>\n      <td>0.679125</td>\n      <td>0.301383</td>\n      <td>...</td>\n      <td>0.426165</td>\n      <td>0.197351</td>\n      <td>0.882741</td>\n      <td>0.581491</td>\n      <td>0.254161</td>\n      <td>0.489437</td>\n      <td>0.406275</td>\n      <td>0.385405</td>\n      <td>0.351110</td>\n      <td>0.117365</td>\n    </tr>\n    <tr>\n      <th>96691</th>\n      <td>0.375981</td>\n      <td>0.680410</td>\n      <td>0.333333</td>\n      <td>0.454545</td>\n      <td>0.322823</td>\n      <td>0.438452</td>\n      <td>0.408633</td>\n      <td>0.459101</td>\n      <td>0.222386</td>\n      <td>0.370259</td>\n      <td>...</td>\n      <td>0.447204</td>\n      <td>0.340150</td>\n      <td>0.530139</td>\n      <td>0.605932</td>\n      <td>0.662978</td>\n      <td>0.482234</td>\n      <td>0.273805</td>\n      <td>0.397144</td>\n      <td>0.345732</td>\n      <td>0.282825</td>\n    </tr>\n    <tr>\n      <th>...</th>\n      <td>...</td>\n      <td>...</td>\n      <td>...</td>\n      <td>...</td>\n      <td>...</td>\n      <td>...</td>\n      <td>...</td>\n      <td>...</td>\n      <td>...</td>\n      <td>...</td>\n      <td>...</td>\n      <td>...</td>\n      <td>...</td>\n      <td>...</td>\n      <td>...</td>\n      <td>...</td>\n      <td>...</td>\n      <td>...</td>\n      <td>...</td>\n      <td>...</td>\n      <td>...</td>\n    </tr>\n    <tr>\n      <th>100418</th>\n      <td>0.017179</td>\n      <td>0.061056</td>\n      <td>0.826087</td>\n      <td>0.750000</td>\n      <td>0.664195</td>\n      <td>0.419476</td>\n      <td>0.373230</td>\n      <td>0.112250</td>\n      <td>0.735549</td>\n      <td>0.540338</td>\n      <td>...</td>\n      <td>0.294763</td>\n      <td>0.245990</td>\n      <td>0.592392</td>\n      <td>0.447824</td>\n      <td>0.234538</td>\n      <td>0.212148</td>\n      <td>0.355460</td>\n      <td>0.239129</td>\n      <td>0.333411</td>\n      <td>0.452006</td>\n    </tr>\n    <tr>\n      <th>100419</th>\n      <td>0.925236</td>\n      <td>0.585218</td>\n      <td>0.227273</td>\n      <td>0.500000</td>\n      <td>0.236265</td>\n      <td>0.401842</td>\n      <td>0.399165</td>\n      <td>0.324863</td>\n      <td>0.302076</td>\n      <td>0.414863</td>\n      <td>...</td>\n      <td>0.316692</td>\n      <td>0.272511</td>\n      <td>0.386791</td>\n      <td>0.605355</td>\n      <td>0.482234</td>\n      <td>0.317782</td>\n      <td>0.360621</td>\n      <td>0.462887</td>\n      <td>0.343231</td>\n      <td>0.270481</td>\n    </tr>\n    <tr>\n      <th>100420</th>\n      <td>0.756872</td>\n      <td>0.476345</td>\n      <td>0.333333</td>\n      <td>0.565217</td>\n      <td>0.468060</td>\n      <td>0.304628</td>\n      <td>0.598000</td>\n      <td>0.291330</td>\n      <td>0.260529</td>\n      <td>0.389305</td>\n      <td>...</td>\n      <td>0.324837</td>\n      <td>0.118993</td>\n      <td>0.593196</td>\n      <td>0.512408</td>\n      <td>0.559859</td>\n      <td>0.250612</td>\n      <td>0.328409</td>\n      <td>0.370016</td>\n      <td>0.170330</td>\n      <td>0.268095</td>\n    </tr>\n    <tr>\n      <th>100421</th>\n      <td>0.222725</td>\n      <td>0.025502</td>\n      <td>0.625000</td>\n      <td>0.826087</td>\n      <td>0.307014</td>\n      <td>0.667950</td>\n      <td>0.197714</td>\n      <td>0.304070</td>\n      <td>0.553303</td>\n      <td>0.681751</td>\n      <td>...</td>\n      <td>0.210150</td>\n      <td>0.399477</td>\n      <td>0.363243</td>\n      <td>0.724779</td>\n      <td>0.271567</td>\n      <td>0.317208</td>\n      <td>0.130320</td>\n      <td>0.204072</td>\n      <td>0.196812</td>\n      <td>0.273119</td>\n    </tr>\n    <tr>\n      <th>100422</th>\n      <td>0.142708</td>\n      <td>0.520576</td>\n      <td>0.583333</td>\n      <td>0.333333</td>\n      <td>0.468060</td>\n      <td>0.271925</td>\n      <td>0.242190</td>\n      <td>0.346840</td>\n      <td>0.657961</td>\n      <td>0.348979</td>\n      <td>...</td>\n      <td>0.206566</td>\n      <td>0.199398</td>\n      <td>0.439894</td>\n      <td>0.471612</td>\n      <td>0.245158</td>\n      <td>0.267165</td>\n      <td>0.233549</td>\n      <td>0.367469</td>\n      <td>0.273852</td>\n      <td>0.165515</td>\n    </tr>\n  </tbody>\n</table>\n<p>3736 rows × 32 columns</p>\n</div>"
     },
     "execution_count": 174,
     "metadata": {},
     "output_type": "execute_result"
    }
   ],
   "source": [
    "svr = SVR()\n",
    "regr = MultiOutputRegressor(svr)\n",
    "regr.fit(X_train, y_train)\n",
    "X_test"
   ]
  },
  {
   "cell_type": "code",
   "execution_count": 180,
   "metadata": {
    "pycharm": {
     "name": "#%%\n"
    }
   },
   "outputs": [],
   "source": [
    "def get_winner(team1_name, team2_name, year):\n",
    "    team1 = get_team_id(team1_name)\n",
    "    team2 = get_team_id(team2_name)\n",
    "    team1_cols = []\n",
    "    team2_cols = []\n",
    "    for col in X_train.columns:\n",
    "        if 'Team1' in col:\n",
    "            team1_cols.append(col)\n",
    "        else:\n",
    "            team2_cols.append(col)\n",
    "    row1 = []\n",
    "    row2 = []\n",
    "    return_row = []\n",
    "    #check tha team1 and team2 have data for that year\n",
    "    if (team1 not in Train['Team1'].values) and (team1 not in Train['Team2'].values):\n",
    "        print(\"Can't find team1 data\")\n",
    "        raise IndexError\n",
    "    if (team2 not in Train['Team1'].values) and (team2 not in Train['Team2'].values):\n",
    "        print(\"Can't find team2 data\")\n",
    "        raise IndexError\n",
    "    for col in team1_cols:\n",
    "        try:\n",
    "            row1.append(Train[Train.Season==year].loc[Train['Team1']==team1][col].values[0])\n",
    "        except IndexError:\n",
    "            row1.append(Train[Train.Season==year].loc[Train['Team2']==team1][col].values[0])\n",
    "    for col in team2_cols:\n",
    "        try:\n",
    "            row2.append(Train[Train.Season==year].loc[Train['Team1']==team2][col].values[0])\n",
    "        except IndexError:\n",
    "            row2.append(Train[Train.Season==year].loc[Train['Team2']==team2][col].values[0])\n",
    "    count = 0\n",
    "    for i in range(len(row1)):\n",
    "        return_row.append(row1[count])\n",
    "        return_row.append(row2[count])\n",
    "        count += 1\n",
    "    df = pd.DataFrame([return_row], columns=X_train.columns)\n",
    "    prediction = regr.predict(df)\n",
    "    prediction = pd.DataFrame(prediction, columns=['Team1', 'Team2'])\n",
    "    if prediction['Team1'].values[0] > prediction['Team2'].values[0]:\n",
    "        return team1_name, f\"+{round((prediction['Team1'].values[0]-prediction['Team2'].values[0]) * 2 / 2)}, {prediction['Team1'].values[0]}\"\n",
    "    else:\n",
    "        return team2_name, f\"+{round((prediction['Team2'].values[0]-prediction['Team1'].values[0]) * 2 / 2)}, {prediction['Team1'].values[0]}\""
   ]
  },
  {
   "cell_type": "code",
   "execution_count": 253,
   "metadata": {
    "pycharm": {
     "name": "#%%\n"
    }
   },
   "outputs": [
    {
     "data": {
      "text/plain": "('Gonzaga', '+23, 85.48871726582952')"
     },
     "execution_count": 253,
     "metadata": {},
     "output_type": "execute_result"
    }
   ],
   "source": [
    "get_winner(\"Gonzaga\", \"Arizona\", 2022)"
   ]
  },
  {
   "cell_type": "code",
   "execution_count": 190,
   "outputs": [
    {
     "data": {
      "text/plain": "     TeamID      TeamName  FirstD1Season  LastD1Season\n0      1101   Abilene Chr           2014          2022\n1      1102     Air Force           1985          2022\n2      1103         Akron           1985          2022\n3      1104       Alabama           1985          2022\n4      1105   Alabama A&M           2000          2022\n..      ...           ...            ...           ...\n367    1468    Bellarmine           2021          2022\n368    1469      Dixie St           2021          2022\n369    1470   Tarleton St           2021          2022\n370    1471  UC San Diego           2021          2022\n371    1472  St Thomas MN           2022          2022\n\n[372 rows x 4 columns]",
      "text/html": "<div>\n<style scoped>\n    .dataframe tbody tr th:only-of-type {\n        vertical-align: middle;\n    }\n\n    .dataframe tbody tr th {\n        vertical-align: top;\n    }\n\n    .dataframe thead th {\n        text-align: right;\n    }\n</style>\n<table border=\"1\" class=\"dataframe\">\n  <thead>\n    <tr style=\"text-align: right;\">\n      <th></th>\n      <th>TeamID</th>\n      <th>TeamName</th>\n      <th>FirstD1Season</th>\n      <th>LastD1Season</th>\n    </tr>\n  </thead>\n  <tbody>\n    <tr>\n      <th>0</th>\n      <td>1101</td>\n      <td>Abilene Chr</td>\n      <td>2014</td>\n      <td>2022</td>\n    </tr>\n    <tr>\n      <th>1</th>\n      <td>1102</td>\n      <td>Air Force</td>\n      <td>1985</td>\n      <td>2022</td>\n    </tr>\n    <tr>\n      <th>2</th>\n      <td>1103</td>\n      <td>Akron</td>\n      <td>1985</td>\n      <td>2022</td>\n    </tr>\n    <tr>\n      <th>3</th>\n      <td>1104</td>\n      <td>Alabama</td>\n      <td>1985</td>\n      <td>2022</td>\n    </tr>\n    <tr>\n      <th>4</th>\n      <td>1105</td>\n      <td>Alabama A&amp;M</td>\n      <td>2000</td>\n      <td>2022</td>\n    </tr>\n    <tr>\n      <th>...</th>\n      <td>...</td>\n      <td>...</td>\n      <td>...</td>\n      <td>...</td>\n    </tr>\n    <tr>\n      <th>367</th>\n      <td>1468</td>\n      <td>Bellarmine</td>\n      <td>2021</td>\n      <td>2022</td>\n    </tr>\n    <tr>\n      <th>368</th>\n      <td>1469</td>\n      <td>Dixie St</td>\n      <td>2021</td>\n      <td>2022</td>\n    </tr>\n    <tr>\n      <th>369</th>\n      <td>1470</td>\n      <td>Tarleton St</td>\n      <td>2021</td>\n      <td>2022</td>\n    </tr>\n    <tr>\n      <th>370</th>\n      <td>1471</td>\n      <td>UC San Diego</td>\n      <td>2021</td>\n      <td>2022</td>\n    </tr>\n    <tr>\n      <th>371</th>\n      <td>1472</td>\n      <td>St Thomas MN</td>\n      <td>2022</td>\n      <td>2022</td>\n    </tr>\n  </tbody>\n</table>\n<p>372 rows × 4 columns</p>\n</div>"
     },
     "execution_count": 190,
     "metadata": {},
     "output_type": "execute_result"
    }
   ],
   "source": [
    "TeamIDs"
   ],
   "metadata": {
    "collapsed": false,
    "pycharm": {
     "name": "#%%\n"
    }
   }
  },
  {
   "cell_type": "code",
   "execution_count": null,
   "outputs": [],
   "source": [],
   "metadata": {
    "collapsed": false,
    "pycharm": {
     "name": "#%%\n"
    }
   }
  }
 ],
 "metadata": {
  "kernelspec": {
   "display_name": "Python 3 (ipykernel)",
   "language": "python",
   "name": "python3"
  },
  "language_info": {
   "codemirror_mode": {
    "name": "ipython",
    "version": 2
   },
   "file_extension": ".py",
   "mimetype": "text/x-python",
   "name": "python",
   "nbconvert_exporter": "python",
   "pygments_lexer": "ipython2",
   "version": "2.7.6"
  }
 },
 "nbformat": 4,
 "nbformat_minor": 1
}
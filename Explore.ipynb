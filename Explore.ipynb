{
 "cells": [
  {
   "cell_type": "code",
   "execution_count": 37,
   "metadata": {
    "collapsed": true
   },
   "outputs": [],
   "source": [
    "import pandas as pd\n",
    "import numpy as np"
   ]
  },
  {
   "cell_type": "code",
   "execution_count": 38,
   "metadata": {
    "pycharm": {
     "name": "#%%\n"
    }
   },
   "outputs": [],
   "source": [
    "ROOT = '/home/robert/Projects/NCAA2021'"
   ]
  },
  {
   "cell_type": "code",
   "execution_count": 39,
   "metadata": {
    "pycharm": {
     "name": "#%%\n"
    }
   },
   "outputs": [],
   "source": [
    "ELO_RATING = {}"
   ]
  },
  {
   "cell_type": "markdown",
   "metadata": {
    "pycharm": {
     "name": "#%% md\n"
    }
   },
   "source": [
    "## Import Data"
   ]
  },
  {
   "cell_type": "code",
   "execution_count": 40,
   "metadata": {
    "pycharm": {
     "name": "#%%\n"
    }
   },
   "outputs": [],
   "source": [
    "RegularSeason = pd.read_csv(f'{ROOT}/Data/MRegularSeasonDetailedResults.csv', index_col=False)\n",
    "Tourney = pd.read_csv(f'{ROOT}/Data/MNCAATourneyCompactResults.csv')\n",
    "TeamIDs = pd.read_csv(f'{ROOT}/Data/MTeams.csv')\n",
    "Rankings = pd.read_csv(f'{ROOT}/Data/MMasseyOrdinals.csv')\n",
    "RegularSeason = RegularSeason[RegularSeason.Season==2022]\n",
    "RegularSeason = RegularSeason[['Season', 'DayNum', 'WTeamID', 'LTeamID', 'WScore', 'LScore']]\n",
    "RegularSeason['WTeamElo'] = np.nan\n",
    "RegularSeason['LTeamElo'] = np.nan"
   ]
  },
  {
   "cell_type": "markdown",
   "metadata": {},
   "source": [
    "## Elo Functions"
   ]
  },
  {
   "cell_type": "code",
   "execution_count": 41,
   "metadata": {
    "pycharm": {
     "name": "#%%\n"
    }
   },
   "outputs": [],
   "source": [
    "K = 30\n",
    "def win_chance(elo1, elo2):\n",
    "    \"\"\"Given elo1 and elo2, will return the chance of elo1 winning\"\"\"\n",
    "    return  1 / ( 1 + 10**((elo2-elo1)/400) )\n",
    "\n",
    "def update_elo(winner_elo, loser_elo):\n",
    "    \"\"\"Given elo1 (winner) and elo2 (loser) will return new elos\"\"\"\n",
    "    elo_change = K * (1 - win_chance(winner_elo, loser_elo))\n",
    "    new_elo1 = int(winner_elo + elo_change)\n",
    "    new_elo2 = int(loser_elo - elo_change)\n",
    "    return new_elo1, new_elo2\n",
    "def margin_of_victory(elo_win, elo_loss, score_win, score_loss):\n",
    "    return (np.log((score_win-score_loss)+1) * 2.2) / ((elo_win - elo_loss)*0.001 + 2.2)"
   ]
  },
  {
   "cell_type": "code",
   "execution_count": 42,
   "metadata": {
    "pycharm": {
     "name": "#%%\n"
    }
   },
   "outputs": [],
   "source": [
    "def get_team_ids():\n",
    "    team_ids = []\n",
    "    WTeamIDs = RegularSeason['WTeamID'].unique().tolist()\n",
    "    LTeamIDs = RegularSeason['LTeamID'].unique().tolist()\n",
    "    for team in WTeamIDs:\n",
    "        team_ids.append(team)\n",
    "    for team in LTeamIDs:\n",
    "        if team not in WTeamIDs:\n",
    "            team_ids.append(team)\n",
    "    return team_ids\n",
    "team_ids = get_team_ids()"
   ]
  },
  {
   "cell_type": "code",
   "execution_count": 43,
   "metadata": {
    "pycharm": {
     "name": "#%%\n"
    }
   },
   "outputs": [
    {
     "data": {
      "text/plain": "        Season  DayNum  WTeamID  LTeamID  WScore  LScore  WTeamElo  LTeamElo\n96687     2022       8     1104     1256      93      64       NaN       NaN\n96688     2022       8     1105     1398      82      73       NaN       NaN\n96689     2022       8     1110     1265      77      73       NaN       NaN\n96690     2022       8     1112     1319      81      52       NaN       NaN\n96691     2022       8     1113     1339      76      60       NaN       NaN\n...        ...     ...      ...      ...     ...     ...       ...       ...\n100418    2022      98     1400     1242      79      76       NaN       NaN\n100419    2022      98     1411     1126      66      63       NaN       NaN\n100420    2022      98     1422     1441      68      49       NaN       NaN\n100421    2022      98     1438     1181      69      68       NaN       NaN\n100422    2022      98     1439     1338      74      47       NaN       NaN\n\n[3736 rows x 8 columns]",
      "text/html": "<div>\n<style scoped>\n    .dataframe tbody tr th:only-of-type {\n        vertical-align: middle;\n    }\n\n    .dataframe tbody tr th {\n        vertical-align: top;\n    }\n\n    .dataframe thead th {\n        text-align: right;\n    }\n</style>\n<table border=\"1\" class=\"dataframe\">\n  <thead>\n    <tr style=\"text-align: right;\">\n      <th></th>\n      <th>Season</th>\n      <th>DayNum</th>\n      <th>WTeamID</th>\n      <th>LTeamID</th>\n      <th>WScore</th>\n      <th>LScore</th>\n      <th>WTeamElo</th>\n      <th>LTeamElo</th>\n    </tr>\n  </thead>\n  <tbody>\n    <tr>\n      <th>96687</th>\n      <td>2022</td>\n      <td>8</td>\n      <td>1104</td>\n      <td>1256</td>\n      <td>93</td>\n      <td>64</td>\n      <td>NaN</td>\n      <td>NaN</td>\n    </tr>\n    <tr>\n      <th>96688</th>\n      <td>2022</td>\n      <td>8</td>\n      <td>1105</td>\n      <td>1398</td>\n      <td>82</td>\n      <td>73</td>\n      <td>NaN</td>\n      <td>NaN</td>\n    </tr>\n    <tr>\n      <th>96689</th>\n      <td>2022</td>\n      <td>8</td>\n      <td>1110</td>\n      <td>1265</td>\n      <td>77</td>\n      <td>73</td>\n      <td>NaN</td>\n      <td>NaN</td>\n    </tr>\n    <tr>\n      <th>96690</th>\n      <td>2022</td>\n      <td>8</td>\n      <td>1112</td>\n      <td>1319</td>\n      <td>81</td>\n      <td>52</td>\n      <td>NaN</td>\n      <td>NaN</td>\n    </tr>\n    <tr>\n      <th>96691</th>\n      <td>2022</td>\n      <td>8</td>\n      <td>1113</td>\n      <td>1339</td>\n      <td>76</td>\n      <td>60</td>\n      <td>NaN</td>\n      <td>NaN</td>\n    </tr>\n    <tr>\n      <th>...</th>\n      <td>...</td>\n      <td>...</td>\n      <td>...</td>\n      <td>...</td>\n      <td>...</td>\n      <td>...</td>\n      <td>...</td>\n      <td>...</td>\n    </tr>\n    <tr>\n      <th>100418</th>\n      <td>2022</td>\n      <td>98</td>\n      <td>1400</td>\n      <td>1242</td>\n      <td>79</td>\n      <td>76</td>\n      <td>NaN</td>\n      <td>NaN</td>\n    </tr>\n    <tr>\n      <th>100419</th>\n      <td>2022</td>\n      <td>98</td>\n      <td>1411</td>\n      <td>1126</td>\n      <td>66</td>\n      <td>63</td>\n      <td>NaN</td>\n      <td>NaN</td>\n    </tr>\n    <tr>\n      <th>100420</th>\n      <td>2022</td>\n      <td>98</td>\n      <td>1422</td>\n      <td>1441</td>\n      <td>68</td>\n      <td>49</td>\n      <td>NaN</td>\n      <td>NaN</td>\n    </tr>\n    <tr>\n      <th>100421</th>\n      <td>2022</td>\n      <td>98</td>\n      <td>1438</td>\n      <td>1181</td>\n      <td>69</td>\n      <td>68</td>\n      <td>NaN</td>\n      <td>NaN</td>\n    </tr>\n    <tr>\n      <th>100422</th>\n      <td>2022</td>\n      <td>98</td>\n      <td>1439</td>\n      <td>1338</td>\n      <td>74</td>\n      <td>47</td>\n      <td>NaN</td>\n      <td>NaN</td>\n    </tr>\n  </tbody>\n</table>\n<p>3736 rows × 8 columns</p>\n</div>"
     },
     "execution_count": 43,
     "metadata": {},
     "output_type": "execute_result"
    }
   ],
   "source": [
    "def generate_elo():\n",
    "    for team in team_ids:\n",
    "        ELO_RATING[team] = 1500\n",
    "generate_elo()\n",
    "RegularSeason"
   ]
  },
  {
   "cell_type": "code",
   "execution_count": 44,
   "metadata": {
    "pycharm": {
     "name": "#%%\n"
    }
   },
   "outputs": [],
   "source": [
    "for i in RegularSeason.index:\n",
    "    MoV = margin_of_victory(ELO_RATING[RegularSeason.at[i, 'WTeamID']],ELO_RATING[RegularSeason.at[i, 'WTeamID']], RegularSeason.at[i, 'WScore'], RegularSeason.at[i, 'LScore'])\n",
    "    WTeamElo, LTeamElo = update_elo(ELO_RATING[RegularSeason.at[i, 'WTeamID']], ELO_RATING[RegularSeason.at[i, 'LTeamID']])\n",
    "    RegularSeason.at[i, 'WTeamElo'] = WTeamElo + MoV\n",
    "    RegularSeason.at[i, 'LTeamElo'] = LTeamElo - MoV\n",
    "    ELO_RATING[RegularSeason.at[i, 'WTeamID']] = WTeamElo + MoV\n",
    "    ELO_RATING[RegularSeason.at[i, 'LTeamID']] = LTeamElo - MoV"
   ]
  },
  {
   "cell_type": "code",
   "execution_count": 45,
   "metadata": {
    "pycharm": {
     "name": "#%%\n"
    }
   },
   "outputs": [],
   "source": [
    "def get_team_id(team_name):\n",
    "    return TeamIDs.loc[TeamIDs['TeamName']==team_name]['TeamID'].values[0]"
   ]
  },
  {
   "cell_type": "code",
   "execution_count": 46,
   "metadata": {
    "pycharm": {
     "name": "#%%\n"
    }
   },
   "outputs": [
    {
     "data": {
      "text/plain": "     TeamID      TeamName  FirstD1Season  LastD1Season\n0      1101   Abilene Chr           2014          2022\n1      1102     Air Force           1985          2022\n2      1103         Akron           1985          2022\n3      1104       Alabama           1985          2022\n4      1105   Alabama A&M           2000          2022\n..      ...           ...            ...           ...\n367    1468    Bellarmine           2021          2022\n368    1469      Dixie St           2021          2022\n369    1470   Tarleton St           2021          2022\n370    1471  UC San Diego           2021          2022\n371    1472  St Thomas MN           2022          2022\n\n[372 rows x 4 columns]",
      "text/html": "<div>\n<style scoped>\n    .dataframe tbody tr th:only-of-type {\n        vertical-align: middle;\n    }\n\n    .dataframe tbody tr th {\n        vertical-align: top;\n    }\n\n    .dataframe thead th {\n        text-align: right;\n    }\n</style>\n<table border=\"1\" class=\"dataframe\">\n  <thead>\n    <tr style=\"text-align: right;\">\n      <th></th>\n      <th>TeamID</th>\n      <th>TeamName</th>\n      <th>FirstD1Season</th>\n      <th>LastD1Season</th>\n    </tr>\n  </thead>\n  <tbody>\n    <tr>\n      <th>0</th>\n      <td>1101</td>\n      <td>Abilene Chr</td>\n      <td>2014</td>\n      <td>2022</td>\n    </tr>\n    <tr>\n      <th>1</th>\n      <td>1102</td>\n      <td>Air Force</td>\n      <td>1985</td>\n      <td>2022</td>\n    </tr>\n    <tr>\n      <th>2</th>\n      <td>1103</td>\n      <td>Akron</td>\n      <td>1985</td>\n      <td>2022</td>\n    </tr>\n    <tr>\n      <th>3</th>\n      <td>1104</td>\n      <td>Alabama</td>\n      <td>1985</td>\n      <td>2022</td>\n    </tr>\n    <tr>\n      <th>4</th>\n      <td>1105</td>\n      <td>Alabama A&amp;M</td>\n      <td>2000</td>\n      <td>2022</td>\n    </tr>\n    <tr>\n      <th>...</th>\n      <td>...</td>\n      <td>...</td>\n      <td>...</td>\n      <td>...</td>\n    </tr>\n    <tr>\n      <th>367</th>\n      <td>1468</td>\n      <td>Bellarmine</td>\n      <td>2021</td>\n      <td>2022</td>\n    </tr>\n    <tr>\n      <th>368</th>\n      <td>1469</td>\n      <td>Dixie St</td>\n      <td>2021</td>\n      <td>2022</td>\n    </tr>\n    <tr>\n      <th>369</th>\n      <td>1470</td>\n      <td>Tarleton St</td>\n      <td>2021</td>\n      <td>2022</td>\n    </tr>\n    <tr>\n      <th>370</th>\n      <td>1471</td>\n      <td>UC San Diego</td>\n      <td>2021</td>\n      <td>2022</td>\n    </tr>\n    <tr>\n      <th>371</th>\n      <td>1472</td>\n      <td>St Thomas MN</td>\n      <td>2022</td>\n      <td>2022</td>\n    </tr>\n  </tbody>\n</table>\n<p>372 rows × 4 columns</p>\n</div>"
     },
     "execution_count": 46,
     "metadata": {},
     "output_type": "execute_result"
    }
   ],
   "source": [
    "TeamIDs"
   ]
  },
  {
   "cell_type": "code",
   "execution_count": 135,
   "metadata": {
    "pycharm": {
     "name": "#%%\n"
    }
   },
   "outputs": [
    {
     "data": {
      "text/plain": "0.5433056292516887"
     },
     "execution_count": 135,
     "metadata": {},
     "output_type": "execute_result"
    }
   ],
   "source": [
    "team1 = \"Baylor\"\n",
    "team2 = \"UCLA\"\n",
    "win_chance(ELO_RATING[get_team_id(team1)], ELO_RATING[get_team_id(team2)])"
   ]
  },
  {
   "cell_type": "code",
   "execution_count": 136,
   "outputs": [
    {
     "data": {
      "text/plain": "        Season  DayNum  WTeamID  LTeamID  WScore  LScore     WTeamElo  \\\n96687     2022       8     1104     1256      93      64  1518.401197   \n96688     2022       8     1105     1398      82      73  1517.302585   \n96689     2022       8     1110     1265      77      73  1516.609438   \n96690     2022       8     1112     1319      81      52  1518.401197   \n96691     2022       8     1113     1339      76      60  1517.833213   \n...        ...     ...      ...      ...     ...     ...          ...   \n100418    2022      98     1400     1242      79      76  1664.386294   \n100419    2022      98     1411     1126      66      63  1489.386294   \n100420    2022      98     1422     1441      68      49  1516.995732   \n100421    2022      98     1438     1181      69      68  1589.693147   \n100422    2022      98     1439     1338      74      47  1558.332205   \n\n           LTeamElo  \n96687   1481.598803  \n96688   1482.697415  \n96689   1483.390562  \n96690   1481.598803  \n96691   1482.166787  \n...             ...  \n100418  1699.613706  \n100419  1317.613706  \n100420  1376.004268  \n100421  1680.306853  \n100422  1409.667795  \n\n[3736 rows x 8 columns]",
      "text/html": "<div>\n<style scoped>\n    .dataframe tbody tr th:only-of-type {\n        vertical-align: middle;\n    }\n\n    .dataframe tbody tr th {\n        vertical-align: top;\n    }\n\n    .dataframe thead th {\n        text-align: right;\n    }\n</style>\n<table border=\"1\" class=\"dataframe\">\n  <thead>\n    <tr style=\"text-align: right;\">\n      <th></th>\n      <th>Season</th>\n      <th>DayNum</th>\n      <th>WTeamID</th>\n      <th>LTeamID</th>\n      <th>WScore</th>\n      <th>LScore</th>\n      <th>WTeamElo</th>\n      <th>LTeamElo</th>\n    </tr>\n  </thead>\n  <tbody>\n    <tr>\n      <th>96687</th>\n      <td>2022</td>\n      <td>8</td>\n      <td>1104</td>\n      <td>1256</td>\n      <td>93</td>\n      <td>64</td>\n      <td>1518.401197</td>\n      <td>1481.598803</td>\n    </tr>\n    <tr>\n      <th>96688</th>\n      <td>2022</td>\n      <td>8</td>\n      <td>1105</td>\n      <td>1398</td>\n      <td>82</td>\n      <td>73</td>\n      <td>1517.302585</td>\n      <td>1482.697415</td>\n    </tr>\n    <tr>\n      <th>96689</th>\n      <td>2022</td>\n      <td>8</td>\n      <td>1110</td>\n      <td>1265</td>\n      <td>77</td>\n      <td>73</td>\n      <td>1516.609438</td>\n      <td>1483.390562</td>\n    </tr>\n    <tr>\n      <th>96690</th>\n      <td>2022</td>\n      <td>8</td>\n      <td>1112</td>\n      <td>1319</td>\n      <td>81</td>\n      <td>52</td>\n      <td>1518.401197</td>\n      <td>1481.598803</td>\n    </tr>\n    <tr>\n      <th>96691</th>\n      <td>2022</td>\n      <td>8</td>\n      <td>1113</td>\n      <td>1339</td>\n      <td>76</td>\n      <td>60</td>\n      <td>1517.833213</td>\n      <td>1482.166787</td>\n    </tr>\n    <tr>\n      <th>...</th>\n      <td>...</td>\n      <td>...</td>\n      <td>...</td>\n      <td>...</td>\n      <td>...</td>\n      <td>...</td>\n      <td>...</td>\n      <td>...</td>\n    </tr>\n    <tr>\n      <th>100418</th>\n      <td>2022</td>\n      <td>98</td>\n      <td>1400</td>\n      <td>1242</td>\n      <td>79</td>\n      <td>76</td>\n      <td>1664.386294</td>\n      <td>1699.613706</td>\n    </tr>\n    <tr>\n      <th>100419</th>\n      <td>2022</td>\n      <td>98</td>\n      <td>1411</td>\n      <td>1126</td>\n      <td>66</td>\n      <td>63</td>\n      <td>1489.386294</td>\n      <td>1317.613706</td>\n    </tr>\n    <tr>\n      <th>100420</th>\n      <td>2022</td>\n      <td>98</td>\n      <td>1422</td>\n      <td>1441</td>\n      <td>68</td>\n      <td>49</td>\n      <td>1516.995732</td>\n      <td>1376.004268</td>\n    </tr>\n    <tr>\n      <th>100421</th>\n      <td>2022</td>\n      <td>98</td>\n      <td>1438</td>\n      <td>1181</td>\n      <td>69</td>\n      <td>68</td>\n      <td>1589.693147</td>\n      <td>1680.306853</td>\n    </tr>\n    <tr>\n      <th>100422</th>\n      <td>2022</td>\n      <td>98</td>\n      <td>1439</td>\n      <td>1338</td>\n      <td>74</td>\n      <td>47</td>\n      <td>1558.332205</td>\n      <td>1409.667795</td>\n    </tr>\n  </tbody>\n</table>\n<p>3736 rows × 8 columns</p>\n</div>"
     },
     "execution_count": 136,
     "metadata": {},
     "output_type": "execute_result"
    }
   ],
   "source": [
    "RegularSeason"
   ],
   "metadata": {
    "collapsed": false,
    "pycharm": {
     "name": "#%%\n"
    }
   }
  },
  {
   "cell_type": "code",
   "execution_count": null,
   "outputs": [],
   "source": [],
   "metadata": {
    "collapsed": false,
    "pycharm": {
     "name": "#%%\n"
    }
   }
  }
 ],
 "metadata": {
  "kernelspec": {
   "display_name": "Python 3 (ipykernel)",
   "language": "python",
   "name": "python3"
  },
  "language_info": {
   "codemirror_mode": {
    "name": "ipython",
    "version": 3
   },
   "file_extension": ".py",
   "mimetype": "text/x-python",
   "name": "python",
   "nbconvert_exporter": "python",
   "pygments_lexer": "ipython3",
   "version": "3.10.2"
  }
 },
 "nbformat": 4,
 "nbformat_minor": 1
}
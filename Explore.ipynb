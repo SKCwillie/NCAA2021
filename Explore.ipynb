{
 "cells": [
  {
   "cell_type": "code",
   "execution_count": 140,
   "metadata": {
    "collapsed": true
   },
   "outputs": [],
   "source": [
    "import pandas as pd\n",
    "import numpy as np"
   ]
  },
  {
   "cell_type": "code",
   "execution_count": 141,
   "metadata": {
    "pycharm": {
     "name": "#%%\n"
    }
   },
   "outputs": [],
   "source": [
    "ROOT = '/home/robert/DataSpellProjects/marchMadness/'"
   ]
  },
  {
   "cell_type": "code",
   "execution_count": 142,
   "metadata": {
    "pycharm": {
     "name": "#%%\n"
    }
   },
   "outputs": [],
   "source": [
    "ELO_RATING = {}"
   ]
  },
  {
   "cell_type": "markdown",
   "metadata": {
    "pycharm": {
     "name": "#%% md\n"
    }
   },
   "source": [
    "## Import Data"
   ]
  },
  {
   "cell_type": "code",
   "execution_count": 143,
   "metadata": {
    "pycharm": {
     "name": "#%%\n"
    }
   },
   "outputs": [],
   "source": [
    "RegularSeason = pd.read_csv(f'{ROOT}/Data/MRegularSeasonDetailedResultsModified.csv', index_col=False)\n",
    "Tourney = pd.read_csv(f'{ROOT}/Data/MNCAATourneyCompactResults.csv')\n",
    "TeamIDs = pd.read_csv(f'{ROOT}/Data/MTeams.csv')\n",
    "Rankings = pd.read_csv(f'{ROOT}/Data/MMasseyOrdinals.csv')\n",
    "RegularSeason = RegularSeason[RegularSeason.Season==2021]\n",
    "RegularSeason = RegularSeason[['Season', 'DayNum', 'WTeamID', 'LTeamID', 'WScore', 'LScore']]\n",
    "RegularSeason['WTeamElo'] = np.nan\n",
    "RegularSeason['LTeamElo'] = np.nan"
   ]
  },
  {
   "cell_type": "markdown",
   "metadata": {},
   "source": [
    "## Elo Functions"
   ]
  },
  {
   "cell_type": "code",
   "execution_count": 144,
   "metadata": {
    "pycharm": {
     "name": "#%%\n"
    }
   },
   "outputs": [],
   "source": [
    "K = 30\n",
    "def win_chance(elo1, elo2):\n",
    "    \"\"\"Given elo1 and elo2, will return the chance of elo1 winning\"\"\"\n",
    "    return  1 / ( 1 + 10**((elo2-elo1)/400) )\n",
    "\n",
    "def update_elo(winner_elo, loser_elo):\n",
    "    \"\"\"Given elo1 (winner) and elo2 (loser) will return new elos\"\"\"\n",
    "    elo_change = K * (1 - win_chance(winner_elo, loser_elo))\n",
    "    new_elo1 = int(winner_elo + elo_change)\n",
    "    new_elo2 = int(loser_elo - elo_change)\n",
    "    return new_elo1, new_elo2\n",
    "def margin_of_victory(elo_win, elo_loss, score_win, score_loss):\n",
    "    return (np.log((score_win-score_loss)+1) * 2.2) / ((elo_win - elo_loss)*0.001 + 2.2)"
   ]
  },
  {
   "cell_type": "code",
   "execution_count": 145,
   "metadata": {
    "pycharm": {
     "name": "#%%\n"
    }
   },
   "outputs": [],
   "source": [
    "def get_team_ids():\n",
    "    team_ids = []\n",
    "    WTeamIDs = RegularSeason['WTeamID'].unique().tolist()\n",
    "    LTeamIDs = RegularSeason['LTeamID'].unique().tolist()\n",
    "    for team in WTeamIDs:\n",
    "        team_ids.append(team)\n",
    "    for team in LTeamIDs:\n",
    "        if team not in WTeamIDs:\n",
    "            team_ids.append(team)\n",
    "    return team_ids\n",
    "team_ids = get_team_ids()"
   ]
  },
  {
   "cell_type": "code",
   "execution_count": 146,
   "metadata": {
    "pycharm": {
     "name": "#%%\n"
    }
   },
   "outputs": [
    {
     "data": {
      "text/html": [
       "<div>\n",
       "<style scoped>\n",
       "    .dataframe tbody tr th:only-of-type {\n",
       "        vertical-align: middle;\n",
       "    }\n",
       "\n",
       "    .dataframe tbody tr th {\n",
       "        vertical-align: top;\n",
       "    }\n",
       "\n",
       "    .dataframe thead th {\n",
       "        text-align: right;\n",
       "    }\n",
       "</style>\n",
       "<table border=\"1\" class=\"dataframe\">\n",
       "  <thead>\n",
       "    <tr style=\"text-align: right;\">\n",
       "      <th></th>\n",
       "      <th>Season</th>\n",
       "      <th>DayNum</th>\n",
       "      <th>WTeamID</th>\n",
       "      <th>LTeamID</th>\n",
       "      <th>WScore</th>\n",
       "      <th>LScore</th>\n",
       "      <th>WTeamElo</th>\n",
       "      <th>LTeamElo</th>\n",
       "    </tr>\n",
       "  </thead>\n",
       "  <tbody>\n",
       "    <tr>\n",
       "      <th>92832</th>\n",
       "      <td>2021</td>\n",
       "      <td>23</td>\n",
       "      <td>1101</td>\n",
       "      <td>1190</td>\n",
       "      <td>70</td>\n",
       "      <td>47</td>\n",
       "      <td>NaN</td>\n",
       "      <td>NaN</td>\n",
       "    </tr>\n",
       "    <tr>\n",
       "      <th>92833</th>\n",
       "      <td>2021</td>\n",
       "      <td>23</td>\n",
       "      <td>1104</td>\n",
       "      <td>1240</td>\n",
       "      <td>81</td>\n",
       "      <td>57</td>\n",
       "      <td>NaN</td>\n",
       "      <td>NaN</td>\n",
       "    </tr>\n",
       "    <tr>\n",
       "      <th>92834</th>\n",
       "      <td>2021</td>\n",
       "      <td>23</td>\n",
       "      <td>1111</td>\n",
       "      <td>1354</td>\n",
       "      <td>81</td>\n",
       "      <td>61</td>\n",
       "      <td>NaN</td>\n",
       "      <td>NaN</td>\n",
       "    </tr>\n",
       "    <tr>\n",
       "      <th>92835</th>\n",
       "      <td>2021</td>\n",
       "      <td>23</td>\n",
       "      <td>1113</td>\n",
       "      <td>1348</td>\n",
       "      <td>94</td>\n",
       "      <td>88</td>\n",
       "      <td>NaN</td>\n",
       "      <td>NaN</td>\n",
       "    </tr>\n",
       "    <tr>\n",
       "      <th>92836</th>\n",
       "      <td>2021</td>\n",
       "      <td>23</td>\n",
       "      <td>1114</td>\n",
       "      <td>1341</td>\n",
       "      <td>71</td>\n",
       "      <td>66</td>\n",
       "      <td>NaN</td>\n",
       "      <td>NaN</td>\n",
       "    </tr>\n",
       "    <tr>\n",
       "      <th>...</th>\n",
       "      <td>...</td>\n",
       "      <td>...</td>\n",
       "      <td>...</td>\n",
       "      <td>...</td>\n",
       "      <td>...</td>\n",
       "      <td>...</td>\n",
       "      <td>...</td>\n",
       "      <td>...</td>\n",
       "    </tr>\n",
       "    <tr>\n",
       "      <th>96682</th>\n",
       "      <td>2021</td>\n",
       "      <td>132</td>\n",
       "      <td>1104</td>\n",
       "      <td>1261</td>\n",
       "      <td>80</td>\n",
       "      <td>79</td>\n",
       "      <td>NaN</td>\n",
       "      <td>NaN</td>\n",
       "    </tr>\n",
       "    <tr>\n",
       "      <th>96683</th>\n",
       "      <td>2021</td>\n",
       "      <td>132</td>\n",
       "      <td>1159</td>\n",
       "      <td>1259</td>\n",
       "      <td>85</td>\n",
       "      <td>72</td>\n",
       "      <td>NaN</td>\n",
       "      <td>NaN</td>\n",
       "    </tr>\n",
       "    <tr>\n",
       "      <th>96684</th>\n",
       "      <td>2021</td>\n",
       "      <td>132</td>\n",
       "      <td>1222</td>\n",
       "      <td>1153</td>\n",
       "      <td>91</td>\n",
       "      <td>54</td>\n",
       "      <td>NaN</td>\n",
       "      <td>NaN</td>\n",
       "    </tr>\n",
       "    <tr>\n",
       "      <th>96685</th>\n",
       "      <td>2021</td>\n",
       "      <td>132</td>\n",
       "      <td>1228</td>\n",
       "      <td>1326</td>\n",
       "      <td>91</td>\n",
       "      <td>88</td>\n",
       "      <td>NaN</td>\n",
       "      <td>NaN</td>\n",
       "    </tr>\n",
       "    <tr>\n",
       "      <th>96686</th>\n",
       "      <td>2021</td>\n",
       "      <td>132</td>\n",
       "      <td>1382</td>\n",
       "      <td>1433</td>\n",
       "      <td>74</td>\n",
       "      <td>65</td>\n",
       "      <td>NaN</td>\n",
       "      <td>NaN</td>\n",
       "    </tr>\n",
       "  </tbody>\n",
       "</table>\n",
       "<p>3855 rows × 8 columns</p>\n",
       "</div>"
      ],
      "text/plain": [
       "       Season  DayNum  WTeamID  LTeamID  WScore  LScore  WTeamElo  LTeamElo\n",
       "92832    2021      23     1101     1190      70      47       NaN       NaN\n",
       "92833    2021      23     1104     1240      81      57       NaN       NaN\n",
       "92834    2021      23     1111     1354      81      61       NaN       NaN\n",
       "92835    2021      23     1113     1348      94      88       NaN       NaN\n",
       "92836    2021      23     1114     1341      71      66       NaN       NaN\n",
       "...       ...     ...      ...      ...     ...     ...       ...       ...\n",
       "96682    2021     132     1104     1261      80      79       NaN       NaN\n",
       "96683    2021     132     1159     1259      85      72       NaN       NaN\n",
       "96684    2021     132     1222     1153      91      54       NaN       NaN\n",
       "96685    2021     132     1228     1326      91      88       NaN       NaN\n",
       "96686    2021     132     1382     1433      74      65       NaN       NaN\n",
       "\n",
       "[3855 rows x 8 columns]"
      ]
     },
     "execution_count": 146,
     "metadata": {},
     "output_type": "execute_result"
    }
   ],
   "source": [
    "def generate_elo():\n",
    "    for team in team_ids:\n",
    "        ELO_RATING[team] = 1500\n",
    "generate_elo()\n",
    "RegularSeason"
   ]
  },
  {
   "cell_type": "code",
   "execution_count": 147,
   "metadata": {
    "pycharm": {
     "name": "#%%\n"
    }
   },
   "outputs": [],
   "source": [
    "for i in RegularSeason.index:\n",
    "    MoV = margin_of_victory(ELO_RATING[RegularSeason.at[i, 'WTeamID']],ELO_RATING[RegularSeason.at[i, 'WTeamID']], RegularSeason.at[i, 'WScore'], RegularSeason.at[i, 'LScore'])\n",
    "    WTeamElo, LTeamElo = update_elo(ELO_RATING[RegularSeason.at[i, 'WTeamID']], ELO_RATING[RegularSeason.at[i, 'LTeamID']])\n",
    "    RegularSeason.at[i, 'WTeamElo'] = WTeamElo + MoV\n",
    "    RegularSeason.at[i, 'LTeamElo'] = LTeamElo - MoV\n",
    "    ELO_RATING[RegularSeason.at[i, 'WTeamID']] = WTeamElo + MoV\n",
    "    ELO_RATING[RegularSeason.at[i, 'LTeamID']] = LTeamElo - MoV"
   ]
  },
  {
   "cell_type": "code",
   "execution_count": 148,
   "metadata": {
    "pycharm": {
     "name": "#%%\n"
    }
   },
   "outputs": [],
   "source": [
    "def get_team_id(team_name):\n",
    "    return TeamIDs.loc[TeamIDs['TeamName']==team_name]['TeamID'].values[0]"
   ]
  },
  {
   "cell_type": "code",
   "execution_count": 149,
   "metadata": {
    "pycharm": {
     "name": "#%%\n"
    }
   },
   "outputs": [
    {
     "data": {
      "text/html": [
       "<div>\n",
       "<style scoped>\n",
       "    .dataframe tbody tr th:only-of-type {\n",
       "        vertical-align: middle;\n",
       "    }\n",
       "\n",
       "    .dataframe tbody tr th {\n",
       "        vertical-align: top;\n",
       "    }\n",
       "\n",
       "    .dataframe thead th {\n",
       "        text-align: right;\n",
       "    }\n",
       "</style>\n",
       "<table border=\"1\" class=\"dataframe\">\n",
       "  <thead>\n",
       "    <tr style=\"text-align: right;\">\n",
       "      <th></th>\n",
       "      <th>TeamID</th>\n",
       "      <th>TeamName</th>\n",
       "      <th>FirstD1Season</th>\n",
       "      <th>LastD1Season</th>\n",
       "    </tr>\n",
       "  </thead>\n",
       "  <tbody>\n",
       "    <tr>\n",
       "      <th>0</th>\n",
       "      <td>1101</td>\n",
       "      <td>Abilene Chr</td>\n",
       "      <td>2014</td>\n",
       "      <td>2022</td>\n",
       "    </tr>\n",
       "    <tr>\n",
       "      <th>1</th>\n",
       "      <td>1102</td>\n",
       "      <td>Air Force</td>\n",
       "      <td>1985</td>\n",
       "      <td>2022</td>\n",
       "    </tr>\n",
       "    <tr>\n",
       "      <th>2</th>\n",
       "      <td>1103</td>\n",
       "      <td>Akron</td>\n",
       "      <td>1985</td>\n",
       "      <td>2022</td>\n",
       "    </tr>\n",
       "    <tr>\n",
       "      <th>3</th>\n",
       "      <td>1104</td>\n",
       "      <td>Alabama</td>\n",
       "      <td>1985</td>\n",
       "      <td>2022</td>\n",
       "    </tr>\n",
       "    <tr>\n",
       "      <th>4</th>\n",
       "      <td>1105</td>\n",
       "      <td>Alabama A&amp;M</td>\n",
       "      <td>2000</td>\n",
       "      <td>2022</td>\n",
       "    </tr>\n",
       "    <tr>\n",
       "      <th>...</th>\n",
       "      <td>...</td>\n",
       "      <td>...</td>\n",
       "      <td>...</td>\n",
       "      <td>...</td>\n",
       "    </tr>\n",
       "    <tr>\n",
       "      <th>367</th>\n",
       "      <td>1468</td>\n",
       "      <td>Bellarmine</td>\n",
       "      <td>2021</td>\n",
       "      <td>2022</td>\n",
       "    </tr>\n",
       "    <tr>\n",
       "      <th>368</th>\n",
       "      <td>1469</td>\n",
       "      <td>Dixie St</td>\n",
       "      <td>2021</td>\n",
       "      <td>2022</td>\n",
       "    </tr>\n",
       "    <tr>\n",
       "      <th>369</th>\n",
       "      <td>1470</td>\n",
       "      <td>Tarleton St</td>\n",
       "      <td>2021</td>\n",
       "      <td>2022</td>\n",
       "    </tr>\n",
       "    <tr>\n",
       "      <th>370</th>\n",
       "      <td>1471</td>\n",
       "      <td>UC San Diego</td>\n",
       "      <td>2021</td>\n",
       "      <td>2022</td>\n",
       "    </tr>\n",
       "    <tr>\n",
       "      <th>371</th>\n",
       "      <td>1472</td>\n",
       "      <td>St Thomas MN</td>\n",
       "      <td>2022</td>\n",
       "      <td>2022</td>\n",
       "    </tr>\n",
       "  </tbody>\n",
       "</table>\n",
       "<p>372 rows × 4 columns</p>\n",
       "</div>"
      ],
      "text/plain": [
       "     TeamID      TeamName  FirstD1Season  LastD1Season\n",
       "0      1101   Abilene Chr           2014          2022\n",
       "1      1102     Air Force           1985          2022\n",
       "2      1103         Akron           1985          2022\n",
       "3      1104       Alabama           1985          2022\n",
       "4      1105   Alabama A&M           2000          2022\n",
       "..      ...           ...            ...           ...\n",
       "367    1468    Bellarmine           2021          2022\n",
       "368    1469      Dixie St           2021          2022\n",
       "369    1470   Tarleton St           2021          2022\n",
       "370    1471  UC San Diego           2021          2022\n",
       "371    1472  St Thomas MN           2022          2022\n",
       "\n",
       "[372 rows x 4 columns]"
      ]
     },
     "execution_count": 149,
     "metadata": {},
     "output_type": "execute_result"
    }
   ],
   "source": [
    "TeamIDs"
   ]
  },
  {
   "cell_type": "code",
   "execution_count": 155,
   "metadata": {
    "pycharm": {
     "name": "#%%\n"
    }
   },
   "outputs": [
    {
     "data": {
      "text/plain": [
       "0.4947996470685843"
      ]
     },
     "execution_count": 155,
     "metadata": {},
     "output_type": "execute_result"
    }
   ],
   "source": [
    "win_chance(ELO_RATING[get_team_id('USC')], ELO_RATING[get_team_id('Oregon')])"
   ]
  },
  {
   "cell_type": "code",
   "execution_count": 150,
   "metadata": {
    "pycharm": {
     "name": "#%%\n"
    }
   },
   "outputs": [],
   "source": []
  }
 ],
 "metadata": {
  "kernelspec": {
   "display_name": "Python 3 (ipykernel)",
   "language": "python",
   "name": "python3"
  },
  "language_info": {
   "codemirror_mode": {
    "name": "ipython",
    "version": 3
   },
   "file_extension": ".py",
   "mimetype": "text/x-python",
   "name": "python",
   "nbconvert_exporter": "python",
   "pygments_lexer": "ipython3",
   "version": "3.10.2"
  }
 },
 "nbformat": 4,
 "nbformat_minor": 1
}
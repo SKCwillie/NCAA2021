{
 "cells": [
  {
   "cell_type": "code",
   "execution_count": 72,
   "metadata": {
    "collapsed": true
   },
   "outputs": [],
   "source": [
    "import numpy as np\n",
    "import pandas as pd\n",
    "import random\n",
    "\n",
    "ROOT = '/home/robert/Projects/NCAA2021'"
   ]
  },
  {
   "cell_type": "code",
   "execution_count": 73,
   "metadata": {
    "pycharm": {
     "name": "#%%\n"
    }
   },
   "outputs": [],
   "source": [
    "RegularSeason = pd.read_csv(f'{ROOT}/Data/MRegularSeasonDetailedResults.csv')\n",
    "Tourney = pd.read_csv(f'{ROOT}/Data/MNCAATourneyCompactResults.csv')\n",
    "TeamIDs = pd.read_csv(f'{ROOT}/Data/MTeams.csv')\n",
    "Rankings = pd.read_csv(f'{ROOT}/Data/MMasseyOrdinals.csv')"
   ]
  },
  {
   "cell_type": "code",
   "execution_count": 74,
   "metadata": {
    "pycharm": {
     "name": "#%%\n"
    }
   },
   "outputs": [],
   "source": [
    "Train = RegularSeason\n",
    "Train.drop(['DayNum', 'WLoc', 'NumOT'], axis=1, inplace=True)"
   ]
  },
  {
   "cell_type": "markdown",
   "source": [],
   "metadata": {
    "collapsed": false
   }
  },
  {
   "cell_type": "code",
   "execution_count": 75,
   "metadata": {
    "pycharm": {
     "name": "#%%\n"
    }
   },
   "outputs": [
    {
     "data": {
      "text/plain": "        Season  WTeamID  WScore  LTeamID  LScore  WFGM  WFGA  WFGM3  WFGA3  \\\n0         2003     1104      68     1328      62    27    58      3     14   \n1         2003     1272      70     1393      63    26    62      8     20   \n2         2003     1266      73     1437      61    24    58      8     18   \n3         2003     1296      56     1457      50    18    38      3      9   \n4         2003     1400      77     1208      71    30    61      6     14   \n...        ...      ...     ...      ...     ...   ...   ...    ...    ...   \n100418    2022     1400      79     1242      76    28    67      3     20   \n100419    2022     1411      66     1126      63    24    59      2     20   \n100420    2022     1422      68     1441      49    23    56     13     32   \n100421    2022     1438      69     1181      68    31    65      2     12   \n100422    2022     1439      74     1338      47    29    55     13     27   \n\n        WFTM  ...  LFGA3  LFTM  LFTA  LOR  LDR  LAst  LTO  LStl  LBlk  LPF  \n0         11  ...     10    16    22   10   22     8   18     9     2   20  \n1         10  ...     24     9    20   20   25     7   12     8     6   16  \n2         17  ...     26    14    23   31   22     9   12     2     5   23  \n3         17  ...     22     8    15   17   20     9   19     4     3   23  \n4         11  ...     16    17    27   21   15    12   10     7     1   14  \n...      ...  ...    ...   ...   ...  ...  ...   ...  ...   ...   ...  ...  \n100418    20  ...     13    15    23    5   24    10   15     3     5   21  \n100419    16  ...     21    15    24    5   23    10   19    13     2   23  \n100420     9  ...     24     8    11   10   18     5   16     8     2   12  \n100421     5  ...     17    18    22   11   25    14   14     3     9   11  \n100422     3  ...     20     7     9    0   18    11   11     3     6   14  \n\n[100423 rows x 31 columns]",
      "text/html": "<div>\n<style scoped>\n    .dataframe tbody tr th:only-of-type {\n        vertical-align: middle;\n    }\n\n    .dataframe tbody tr th {\n        vertical-align: top;\n    }\n\n    .dataframe thead th {\n        text-align: right;\n    }\n</style>\n<table border=\"1\" class=\"dataframe\">\n  <thead>\n    <tr style=\"text-align: right;\">\n      <th></th>\n      <th>Season</th>\n      <th>WTeamID</th>\n      <th>WScore</th>\n      <th>LTeamID</th>\n      <th>LScore</th>\n      <th>WFGM</th>\n      <th>WFGA</th>\n      <th>WFGM3</th>\n      <th>WFGA3</th>\n      <th>WFTM</th>\n      <th>...</th>\n      <th>LFGA3</th>\n      <th>LFTM</th>\n      <th>LFTA</th>\n      <th>LOR</th>\n      <th>LDR</th>\n      <th>LAst</th>\n      <th>LTO</th>\n      <th>LStl</th>\n      <th>LBlk</th>\n      <th>LPF</th>\n    </tr>\n  </thead>\n  <tbody>\n    <tr>\n      <th>0</th>\n      <td>2003</td>\n      <td>1104</td>\n      <td>68</td>\n      <td>1328</td>\n      <td>62</td>\n      <td>27</td>\n      <td>58</td>\n      <td>3</td>\n      <td>14</td>\n      <td>11</td>\n      <td>...</td>\n      <td>10</td>\n      <td>16</td>\n      <td>22</td>\n      <td>10</td>\n      <td>22</td>\n      <td>8</td>\n      <td>18</td>\n      <td>9</td>\n      <td>2</td>\n      <td>20</td>\n    </tr>\n    <tr>\n      <th>1</th>\n      <td>2003</td>\n      <td>1272</td>\n      <td>70</td>\n      <td>1393</td>\n      <td>63</td>\n      <td>26</td>\n      <td>62</td>\n      <td>8</td>\n      <td>20</td>\n      <td>10</td>\n      <td>...</td>\n      <td>24</td>\n      <td>9</td>\n      <td>20</td>\n      <td>20</td>\n      <td>25</td>\n      <td>7</td>\n      <td>12</td>\n      <td>8</td>\n      <td>6</td>\n      <td>16</td>\n    </tr>\n    <tr>\n      <th>2</th>\n      <td>2003</td>\n      <td>1266</td>\n      <td>73</td>\n      <td>1437</td>\n      <td>61</td>\n      <td>24</td>\n      <td>58</td>\n      <td>8</td>\n      <td>18</td>\n      <td>17</td>\n      <td>...</td>\n      <td>26</td>\n      <td>14</td>\n      <td>23</td>\n      <td>31</td>\n      <td>22</td>\n      <td>9</td>\n      <td>12</td>\n      <td>2</td>\n      <td>5</td>\n      <td>23</td>\n    </tr>\n    <tr>\n      <th>3</th>\n      <td>2003</td>\n      <td>1296</td>\n      <td>56</td>\n      <td>1457</td>\n      <td>50</td>\n      <td>18</td>\n      <td>38</td>\n      <td>3</td>\n      <td>9</td>\n      <td>17</td>\n      <td>...</td>\n      <td>22</td>\n      <td>8</td>\n      <td>15</td>\n      <td>17</td>\n      <td>20</td>\n      <td>9</td>\n      <td>19</td>\n      <td>4</td>\n      <td>3</td>\n      <td>23</td>\n    </tr>\n    <tr>\n      <th>4</th>\n      <td>2003</td>\n      <td>1400</td>\n      <td>77</td>\n      <td>1208</td>\n      <td>71</td>\n      <td>30</td>\n      <td>61</td>\n      <td>6</td>\n      <td>14</td>\n      <td>11</td>\n      <td>...</td>\n      <td>16</td>\n      <td>17</td>\n      <td>27</td>\n      <td>21</td>\n      <td>15</td>\n      <td>12</td>\n      <td>10</td>\n      <td>7</td>\n      <td>1</td>\n      <td>14</td>\n    </tr>\n    <tr>\n      <th>...</th>\n      <td>...</td>\n      <td>...</td>\n      <td>...</td>\n      <td>...</td>\n      <td>...</td>\n      <td>...</td>\n      <td>...</td>\n      <td>...</td>\n      <td>...</td>\n      <td>...</td>\n      <td>...</td>\n      <td>...</td>\n      <td>...</td>\n      <td>...</td>\n      <td>...</td>\n      <td>...</td>\n      <td>...</td>\n      <td>...</td>\n      <td>...</td>\n      <td>...</td>\n      <td>...</td>\n    </tr>\n    <tr>\n      <th>100418</th>\n      <td>2022</td>\n      <td>1400</td>\n      <td>79</td>\n      <td>1242</td>\n      <td>76</td>\n      <td>28</td>\n      <td>67</td>\n      <td>3</td>\n      <td>20</td>\n      <td>20</td>\n      <td>...</td>\n      <td>13</td>\n      <td>15</td>\n      <td>23</td>\n      <td>5</td>\n      <td>24</td>\n      <td>10</td>\n      <td>15</td>\n      <td>3</td>\n      <td>5</td>\n      <td>21</td>\n    </tr>\n    <tr>\n      <th>100419</th>\n      <td>2022</td>\n      <td>1411</td>\n      <td>66</td>\n      <td>1126</td>\n      <td>63</td>\n      <td>24</td>\n      <td>59</td>\n      <td>2</td>\n      <td>20</td>\n      <td>16</td>\n      <td>...</td>\n      <td>21</td>\n      <td>15</td>\n      <td>24</td>\n      <td>5</td>\n      <td>23</td>\n      <td>10</td>\n      <td>19</td>\n      <td>13</td>\n      <td>2</td>\n      <td>23</td>\n    </tr>\n    <tr>\n      <th>100420</th>\n      <td>2022</td>\n      <td>1422</td>\n      <td>68</td>\n      <td>1441</td>\n      <td>49</td>\n      <td>23</td>\n      <td>56</td>\n      <td>13</td>\n      <td>32</td>\n      <td>9</td>\n      <td>...</td>\n      <td>24</td>\n      <td>8</td>\n      <td>11</td>\n      <td>10</td>\n      <td>18</td>\n      <td>5</td>\n      <td>16</td>\n      <td>8</td>\n      <td>2</td>\n      <td>12</td>\n    </tr>\n    <tr>\n      <th>100421</th>\n      <td>2022</td>\n      <td>1438</td>\n      <td>69</td>\n      <td>1181</td>\n      <td>68</td>\n      <td>31</td>\n      <td>65</td>\n      <td>2</td>\n      <td>12</td>\n      <td>5</td>\n      <td>...</td>\n      <td>17</td>\n      <td>18</td>\n      <td>22</td>\n      <td>11</td>\n      <td>25</td>\n      <td>14</td>\n      <td>14</td>\n      <td>3</td>\n      <td>9</td>\n      <td>11</td>\n    </tr>\n    <tr>\n      <th>100422</th>\n      <td>2022</td>\n      <td>1439</td>\n      <td>74</td>\n      <td>1338</td>\n      <td>47</td>\n      <td>29</td>\n      <td>55</td>\n      <td>13</td>\n      <td>27</td>\n      <td>3</td>\n      <td>...</td>\n      <td>20</td>\n      <td>7</td>\n      <td>9</td>\n      <td>0</td>\n      <td>18</td>\n      <td>11</td>\n      <td>11</td>\n      <td>3</td>\n      <td>6</td>\n      <td>14</td>\n    </tr>\n  </tbody>\n</table>\n<p>100423 rows × 31 columns</p>\n</div>"
     },
     "execution_count": 75,
     "metadata": {},
     "output_type": "execute_result"
    }
   ],
   "source": [
    "def randomize_team(WTeamID):\n",
    "    if random.randint(0,1):\n",
    "        return WTeamID\n",
    "    else:\n",
    "        return np.NaN\n",
    "RegularSeason"
   ]
  },
  {
   "cell_type": "code",
   "execution_count": 76,
   "metadata": {
    "pycharm": {
     "name": "#%%\n"
    }
   },
   "outputs": [
    {
     "data": {
      "text/plain": "        Season  WTeamID  WScore  LTeamID  LScore  WFGM  WFGA  WFGM3  WFGA3  \\\n0         2003     1104      68     1328      62    27    58      3     14   \n1         2003     1272      70     1393      63    26    62      8     20   \n2         2003     1266      73     1437      61    24    58      8     18   \n3         2003     1296      56     1457      50    18    38      3      9   \n4         2003     1400      77     1208      71    30    61      6     14   \n...        ...      ...     ...      ...     ...   ...   ...    ...    ...   \n100418    2022     1400      79     1242      76    28    67      3     20   \n100419    2022     1411      66     1126      63    24    59      2     20   \n100420    2022     1422      68     1441      49    23    56     13     32   \n100421    2022     1438      69     1181      68    31    65      2     12   \n100422    2022     1439      74     1338      47    29    55     13     27   \n\n        WFTM  ...  LDR  LAst  LTO  LStl  LBlk  LPF  Team1  Team2  Team1 Pts  \\\n0         11  ...   22     8   18     9     2   20   1328   1104         62   \n1         10  ...   25     7   12     8     6   16   1272   1393         70   \n2         17  ...   22     9   12     2     5   23   1437   1266         61   \n3         17  ...   20     9   19     4     3   23   1296   1457         56   \n4         11  ...   15    12   10     7     1   14   1400   1208         77   \n...      ...  ...  ...   ...  ...   ...   ...  ...    ...    ...        ...   \n100418    20  ...   24    10   15     3     5   21   1242   1400         76   \n100419    16  ...   23    10   19    13     2   23   1126   1411         63   \n100420     9  ...   18     5   16     8     2   12   1441   1422         49   \n100421     5  ...   25    14   14     3     9   11   1438   1181         69   \n100422     3  ...   18    11   11     3     6   14   1439   1338         74   \n\n        Team2 Pts  \n0              68  \n1              63  \n2              73  \n3              50  \n4              71  \n...           ...  \n100418         79  \n100419         66  \n100420         68  \n100421         68  \n100422         47  \n\n[100423 rows x 35 columns]",
      "text/html": "<div>\n<style scoped>\n    .dataframe tbody tr th:only-of-type {\n        vertical-align: middle;\n    }\n\n    .dataframe tbody tr th {\n        vertical-align: top;\n    }\n\n    .dataframe thead th {\n        text-align: right;\n    }\n</style>\n<table border=\"1\" class=\"dataframe\">\n  <thead>\n    <tr style=\"text-align: right;\">\n      <th></th>\n      <th>Season</th>\n      <th>WTeamID</th>\n      <th>WScore</th>\n      <th>LTeamID</th>\n      <th>LScore</th>\n      <th>WFGM</th>\n      <th>WFGA</th>\n      <th>WFGM3</th>\n      <th>WFGA3</th>\n      <th>WFTM</th>\n      <th>...</th>\n      <th>LDR</th>\n      <th>LAst</th>\n      <th>LTO</th>\n      <th>LStl</th>\n      <th>LBlk</th>\n      <th>LPF</th>\n      <th>Team1</th>\n      <th>Team2</th>\n      <th>Team1 Pts</th>\n      <th>Team2 Pts</th>\n    </tr>\n  </thead>\n  <tbody>\n    <tr>\n      <th>0</th>\n      <td>2003</td>\n      <td>1104</td>\n      <td>68</td>\n      <td>1328</td>\n      <td>62</td>\n      <td>27</td>\n      <td>58</td>\n      <td>3</td>\n      <td>14</td>\n      <td>11</td>\n      <td>...</td>\n      <td>22</td>\n      <td>8</td>\n      <td>18</td>\n      <td>9</td>\n      <td>2</td>\n      <td>20</td>\n      <td>1328</td>\n      <td>1104</td>\n      <td>62</td>\n      <td>68</td>\n    </tr>\n    <tr>\n      <th>1</th>\n      <td>2003</td>\n      <td>1272</td>\n      <td>70</td>\n      <td>1393</td>\n      <td>63</td>\n      <td>26</td>\n      <td>62</td>\n      <td>8</td>\n      <td>20</td>\n      <td>10</td>\n      <td>...</td>\n      <td>25</td>\n      <td>7</td>\n      <td>12</td>\n      <td>8</td>\n      <td>6</td>\n      <td>16</td>\n      <td>1272</td>\n      <td>1393</td>\n      <td>70</td>\n      <td>63</td>\n    </tr>\n    <tr>\n      <th>2</th>\n      <td>2003</td>\n      <td>1266</td>\n      <td>73</td>\n      <td>1437</td>\n      <td>61</td>\n      <td>24</td>\n      <td>58</td>\n      <td>8</td>\n      <td>18</td>\n      <td>17</td>\n      <td>...</td>\n      <td>22</td>\n      <td>9</td>\n      <td>12</td>\n      <td>2</td>\n      <td>5</td>\n      <td>23</td>\n      <td>1437</td>\n      <td>1266</td>\n      <td>61</td>\n      <td>73</td>\n    </tr>\n    <tr>\n      <th>3</th>\n      <td>2003</td>\n      <td>1296</td>\n      <td>56</td>\n      <td>1457</td>\n      <td>50</td>\n      <td>18</td>\n      <td>38</td>\n      <td>3</td>\n      <td>9</td>\n      <td>17</td>\n      <td>...</td>\n      <td>20</td>\n      <td>9</td>\n      <td>19</td>\n      <td>4</td>\n      <td>3</td>\n      <td>23</td>\n      <td>1296</td>\n      <td>1457</td>\n      <td>56</td>\n      <td>50</td>\n    </tr>\n    <tr>\n      <th>4</th>\n      <td>2003</td>\n      <td>1400</td>\n      <td>77</td>\n      <td>1208</td>\n      <td>71</td>\n      <td>30</td>\n      <td>61</td>\n      <td>6</td>\n      <td>14</td>\n      <td>11</td>\n      <td>...</td>\n      <td>15</td>\n      <td>12</td>\n      <td>10</td>\n      <td>7</td>\n      <td>1</td>\n      <td>14</td>\n      <td>1400</td>\n      <td>1208</td>\n      <td>77</td>\n      <td>71</td>\n    </tr>\n    <tr>\n      <th>...</th>\n      <td>...</td>\n      <td>...</td>\n      <td>...</td>\n      <td>...</td>\n      <td>...</td>\n      <td>...</td>\n      <td>...</td>\n      <td>...</td>\n      <td>...</td>\n      <td>...</td>\n      <td>...</td>\n      <td>...</td>\n      <td>...</td>\n      <td>...</td>\n      <td>...</td>\n      <td>...</td>\n      <td>...</td>\n      <td>...</td>\n      <td>...</td>\n      <td>...</td>\n      <td>...</td>\n    </tr>\n    <tr>\n      <th>100418</th>\n      <td>2022</td>\n      <td>1400</td>\n      <td>79</td>\n      <td>1242</td>\n      <td>76</td>\n      <td>28</td>\n      <td>67</td>\n      <td>3</td>\n      <td>20</td>\n      <td>20</td>\n      <td>...</td>\n      <td>24</td>\n      <td>10</td>\n      <td>15</td>\n      <td>3</td>\n      <td>5</td>\n      <td>21</td>\n      <td>1242</td>\n      <td>1400</td>\n      <td>76</td>\n      <td>79</td>\n    </tr>\n    <tr>\n      <th>100419</th>\n      <td>2022</td>\n      <td>1411</td>\n      <td>66</td>\n      <td>1126</td>\n      <td>63</td>\n      <td>24</td>\n      <td>59</td>\n      <td>2</td>\n      <td>20</td>\n      <td>16</td>\n      <td>...</td>\n      <td>23</td>\n      <td>10</td>\n      <td>19</td>\n      <td>13</td>\n      <td>2</td>\n      <td>23</td>\n      <td>1126</td>\n      <td>1411</td>\n      <td>63</td>\n      <td>66</td>\n    </tr>\n    <tr>\n      <th>100420</th>\n      <td>2022</td>\n      <td>1422</td>\n      <td>68</td>\n      <td>1441</td>\n      <td>49</td>\n      <td>23</td>\n      <td>56</td>\n      <td>13</td>\n      <td>32</td>\n      <td>9</td>\n      <td>...</td>\n      <td>18</td>\n      <td>5</td>\n      <td>16</td>\n      <td>8</td>\n      <td>2</td>\n      <td>12</td>\n      <td>1441</td>\n      <td>1422</td>\n      <td>49</td>\n      <td>68</td>\n    </tr>\n    <tr>\n      <th>100421</th>\n      <td>2022</td>\n      <td>1438</td>\n      <td>69</td>\n      <td>1181</td>\n      <td>68</td>\n      <td>31</td>\n      <td>65</td>\n      <td>2</td>\n      <td>12</td>\n      <td>5</td>\n      <td>...</td>\n      <td>25</td>\n      <td>14</td>\n      <td>14</td>\n      <td>3</td>\n      <td>9</td>\n      <td>11</td>\n      <td>1438</td>\n      <td>1181</td>\n      <td>69</td>\n      <td>68</td>\n    </tr>\n    <tr>\n      <th>100422</th>\n      <td>2022</td>\n      <td>1439</td>\n      <td>74</td>\n      <td>1338</td>\n      <td>47</td>\n      <td>29</td>\n      <td>55</td>\n      <td>13</td>\n      <td>27</td>\n      <td>3</td>\n      <td>...</td>\n      <td>18</td>\n      <td>11</td>\n      <td>11</td>\n      <td>3</td>\n      <td>6</td>\n      <td>14</td>\n      <td>1439</td>\n      <td>1338</td>\n      <td>74</td>\n      <td>47</td>\n    </tr>\n  </tbody>\n</table>\n<p>100423 rows × 35 columns</p>\n</div>"
     },
     "execution_count": 76,
     "metadata": {},
     "output_type": "execute_result"
    }
   ],
   "source": [
    "Train['Team1'] = Train['WTeamID'].apply(lambda x: randomize_team(x))\n",
    "Train['Team1'].fillna(Train.LTeamID, inplace=True)\n",
    "Train['Team1'] = Train['Team1'].astype(int)\n",
    "Train['Team2'] = np.where(Train['WTeamID']==Train['Team1'], Train['LTeamID'], Train['WTeamID'])\n",
    "Train['Team1 Pts'] = np.where(Train['Team1']==Train['WTeamID'], Train['WScore'], Train['LScore'])\n",
    "Train['Team2 Pts'] = np.where(Train['Team2']==Train['WTeamID'], Train['WScore'], Train['LScore'])\n",
    "Train"
   ]
  },
  {
   "cell_type": "code",
   "execution_count": 77,
   "metadata": {
    "pycharm": {
     "name": "#%%\n"
    }
   },
   "outputs": [],
   "source": [
    "def get_team_rank(team_id, year):\n",
    "    temp = Rankings[Rankings.TeamID==team_id]\n",
    "    temp = temp[temp.Season==year]\n",
    "    return temp['OrdinalRank'].sum() / len(temp.index)\n",
    "Train['Team1 Rank'] = Train.apply(lambda x: get_team_rank(x['Team1'], x['Season']), axis=1)\n",
    "Train['Team2 Rank'] = Train.apply(lambda x: get_team_rank(x['Team2'], x['Season']), axis=1)"
   ]
  },
  {
   "cell_type": "code",
   "execution_count": 78,
   "metadata": {
    "pycharm": {
     "name": "#%%\n"
    }
   },
   "outputs": [],
   "source": [
    "def split_season(team, year):\n",
    "    win_df = RegularSeason[RegularSeason.WTeamID==team]\n",
    "    win_df = win_df[win_df.Season==year]\n",
    "    loss_df = RegularSeason[RegularSeason.LTeamID==team]\n",
    "    loss_df = loss_df[loss_df.Season==year]\n",
    "    num_games = len(win_df) + len(loss_df)\n",
    "    if num_games == 0:\n",
    "        num_games = 1\n",
    "    return win_df, loss_df, num_games"
   ]
  },
  {
   "cell_type": "code",
   "execution_count": 79,
   "metadata": {
    "pycharm": {
     "name": "#%%\n"
    }
   },
   "outputs": [],
   "source": [
    "def get_win_perc(team, year):\n",
    "    win_df, loss_df, num_games = split_season(team, year)\n",
    "    return len(win_df) / num_games\n",
    "Train['Team1 Win%'] = Train.apply(lambda x:get_win_perc(x['Team1'], x['Season']), axis=1)\n",
    "Train['Team2 Win%'] = Train.apply(lambda x:get_win_perc(x['Team2'], x['Season']), axis=1)"
   ]
  },
  {
   "cell_type": "code",
   "execution_count": 80,
   "metadata": {
    "pycharm": {
     "name": "#%%\n"
    }
   },
   "outputs": [],
   "source": [
    "def get_points_avg(team, year):\n",
    "    win_df, loss_df, num_games = split_season(team, year)\n",
    "    return (win_df['WScore'].sum() + loss_df['LScore'].sum())/num_games\n",
    "Train['Team1 Avg Pts'] = Train.apply(lambda x:get_points_avg(x['Team1'], x['Season']), axis=1)\n",
    "Train['Team2 Avg Pts'] = Train.apply(lambda x:get_points_avg(x['Team2'], x['Season']), axis=1)"
   ]
  },
  {
   "cell_type": "code",
   "execution_count": 81,
   "metadata": {
    "pycharm": {
     "name": "#%%\n"
    }
   },
   "outputs": [],
   "source": [
    "def get_points_a_avg(team, year):\n",
    "    win_df, loss_df, num_games = split_season(team, year)\n",
    "    return (win_df['LScore'].sum() + loss_df['WScore'].sum())/num_games\n",
    "Train['Team1 Avg Pts A'] = Train.apply(lambda x:get_points_a_avg(x['Team1'], x['Season']), axis=1)\n",
    "Train['Team2 Avg Pts A'] = Train.apply(lambda x:get_points_a_avg(x['Team2'], x['Season']), axis=1)"
   ]
  },
  {
   "cell_type": "code",
   "execution_count": 82,
   "metadata": {
    "pycharm": {
     "name": "#%%\n"
    }
   },
   "outputs": [],
   "source": [
    "def get_fg_perc(team, year):\n",
    "    win_df, loss_df, num_games = split_season(team, year)\n",
    "    return (win_df['WFGM'].sum() + loss_df['LFGM'].sum()) / (win_df['WFGA'].sum()+loss_df['LFGA'].sum())\n",
    "Train['Team1 Fg%'] = Train.apply(lambda x:get_fg_perc(x['Team1'], x['Season']), axis=1)\n",
    "Train['Team2 Fg%'] = Train.apply(lambda x:get_fg_perc(x['Team2'], x['Season']), axis=1)"
   ]
  },
  {
   "cell_type": "code",
   "execution_count": 83,
   "metadata": {
    "pycharm": {
     "name": "#%%\n"
    }
   },
   "outputs": [],
   "source": [
    "def get_fg_perc_a(team, year):\n",
    "    win_df, loss_df, num_games = split_season(team, year)\n",
    "    return (win_df['LFGM'].sum() + loss_df['WFGM'].sum()) / (win_df['LFGA'].sum()+loss_df['WFGA'].sum())\n",
    "Train['Team1 Fg% A'] = Train.apply(lambda x:get_fg_perc_a(x['Team1'], x['Season']), axis=1)\n",
    "Train['Team2 Fg% A'] = Train.apply(lambda x:get_fg_perc_a(x['Team2'], x['Season']), axis=1)"
   ]
  },
  {
   "cell_type": "code",
   "execution_count": 84,
   "metadata": {
    "pycharm": {
     "name": "#%%\n"
    }
   },
   "outputs": [],
   "source": [
    "def get_three_perc(team, year):\n",
    "    win_df, loss_df, num_games = split_season(team, year)\n",
    "    return (win_df['WFGM3'].sum() + loss_df['LFGM3'].sum()) / (win_df['WFGA3'].sum()+loss_df['LFGA3'].sum())\n",
    "Train['Team1 3%'] = Train.apply(lambda x:get_three_perc(x['Team1'], x['Season']), axis=1)\n",
    "Train['Team2 3%'] = Train.apply(lambda x:get_three_perc(x['Team2'], x['Season']), axis=1)"
   ]
  },
  {
   "cell_type": "code",
   "execution_count": 85,
   "metadata": {
    "pycharm": {
     "name": "#%%\n"
    }
   },
   "outputs": [],
   "source": [
    "def get_three_perc_a(team, year):\n",
    "    win_df, loss_df, num_games = split_season(team, year)\n",
    "    return (win_df['LFGM3'].sum() + loss_df['WFGM3'].sum()) / (win_df['LFGA3'].sum()+loss_df['WFGA3'].sum())\n",
    "Train['Team1 3% A'] = Train.apply(lambda x:get_three_perc_a(x['Team1'], x['Season']), axis=1)\n",
    "Train['Team2 3% A'] = Train.apply(lambda x:get_three_perc_a(x['Team2'], x['Season']), axis=1)"
   ]
  },
  {
   "cell_type": "code",
   "execution_count": 86,
   "metadata": {
    "pycharm": {
     "name": "#%%\n"
    }
   },
   "outputs": [],
   "source": [
    "def get_freethrows(team, year):\n",
    "    win_df, loss_df, num_games = split_season(team, year)\n",
    "    return win_df['WFTM'].sum()+loss_df['LFTM'].sum()\n",
    "Train['Team1 FT'] = Train.apply(lambda x:get_freethrows(x['Team1'], x['Season']), axis=1)\n",
    "Train['Team2 FT'] = Train.apply(lambda x:get_freethrows(x['Team2'], x['Season']), axis=1)"
   ]
  },
  {
   "cell_type": "code",
   "execution_count": 87,
   "metadata": {
    "pycharm": {
     "name": "#%%\n"
    }
   },
   "outputs": [],
   "source": [
    "def get_freethrows_a(team, year):\n",
    "    win_df, loss_df, num_games = split_season(team, year)\n",
    "    return win_df['LFTM'].sum()+loss_df['WFTM'].sum()\n",
    "Train['Team1 FT A'] = Train.apply(lambda x:get_freethrows_a(x['Team1'], x['Season']), axis=1)\n",
    "Train['Team2 FT A'] = Train.apply(lambda x:get_freethrows_a(x['Team2'], x['Season']), axis=1)"
   ]
  },
  {
   "cell_type": "code",
   "execution_count": 88,
   "metadata": {
    "pycharm": {
     "name": "#%%\n"
    }
   },
   "outputs": [],
   "source": [
    "def get_or(team, year):\n",
    "    win_df, loss_df, num_games = split_season(team, year)\n",
    "    return (win_df['WOR'].sum() + loss_df['LOR'].sum()) / num_games\n",
    "Train['Team1 OR'] = Train.apply(lambda x:get_or(x['Team1'], x['Season']), axis=1)\n",
    "Train['Team2 OR'] = Train.apply(lambda x:get_or(x['Team2'], x['Season']), axis=1)"
   ]
  },
  {
   "cell_type": "code",
   "execution_count": 89,
   "metadata": {
    "pycharm": {
     "name": "#%%\n"
    }
   },
   "outputs": [],
   "source": [
    "def get_or_a(team, year):\n",
    "    win_df, loss_df, num_games = split_season(team, year)\n",
    "    return (win_df['LOR'].sum() + loss_df['WOR'].sum()) / num_games\n",
    "Train['Team1 OR A'] = Train.apply(lambda x:get_or_a(x['Team1'], x['Season']), axis=1)\n",
    "Train['Team2 OR A'] = Train.apply(lambda x:get_or_a(x['Team2'], x['Season']), axis=1)"
   ]
  },
  {
   "cell_type": "code",
   "execution_count": 90,
   "metadata": {
    "pycharm": {
     "name": "#%%\n"
    }
   },
   "outputs": [],
   "source": [
    "def get_dr(team, year):\n",
    "    win_df, loss_df, num_games = split_season(team, year)\n",
    "    return (win_df['WDR'].sum() + loss_df['LDR'].sum()) / num_games\n",
    "Train['Team1 DR'] = Train.apply(lambda x:get_dr(x['Team1'], x['Season']), axis=1)\n",
    "Train['Team2 DR'] = Train.apply(lambda x:get_dr(x['Team2'], x['Season']), axis=1)"
   ]
  },
  {
   "cell_type": "code",
   "execution_count": 91,
   "metadata": {
    "pycharm": {
     "name": "#%%\n"
    }
   },
   "outputs": [],
   "source": [
    "def get_dr_a(team, year):\n",
    "    win_df, loss_df, num_games = split_season(team, year)\n",
    "    return (win_df['LDR'].sum() + loss_df['WDR'].sum()) / num_games\n",
    "Train['Team1 DR A'] = Train.apply(lambda x:get_dr_a(x['Team1'], x['Season']), axis=1)\n",
    "Train['Team2 DR A'] = Train.apply(lambda x:get_dr_a(x['Team2'], x['Season']), axis=1)"
   ]
  },
  {
   "cell_type": "code",
   "execution_count": 92,
   "metadata": {
    "pycharm": {
     "name": "#%%\n"
    }
   },
   "outputs": [],
   "source": [
    "def get_to(team, year):\n",
    "    win_df, loss_df, num_games = split_season(team, year)\n",
    "    return (win_df['WTO'].sum() + loss_df['LTO'].sum()) / num_games\n",
    "Train['Team1 TO'] = Train.apply(lambda x:get_to(x['Team1'], x['Season']), axis=1)\n",
    "Train['Team2 TO'] = Train.apply(lambda x:get_to(x['Team2'], x['Season']), axis=1)"
   ]
  },
  {
   "cell_type": "code",
   "execution_count": 93,
   "metadata": {
    "pycharm": {
     "name": "#%%\n"
    }
   },
   "outputs": [],
   "source": [
    "def get_ta(team, year):\n",
    "    win_df, loss_df, num_games = split_season(team, year)\n",
    "    return (win_df['LTO'].sum() + loss_df['WTO'].sum()) / num_games\n",
    "Train['Team1 TA'] = Train.apply(lambda x:get_ta(x['Team1'], x['Season']), axis=1)\n",
    "Train['Team2 TA'] = Train.apply(lambda x:get_ta(x['Team2'], x['Season']), axis=1)"
   ]
  },
  {
   "cell_type": "code",
   "execution_count": 94,
   "metadata": {
    "pycharm": {
     "name": "#%%\n"
    }
   },
   "outputs": [],
   "source": [
    "Train = Train[[col for col in Train.columns if col != 'Team1 Pts'] + ['Team1 Pts']]\n",
    "Train = Train[[col for col in Train.columns if col != 'Team2 Pts'] + ['Team2 Pts']]\n",
    "Train.dropna(inplace=True)\n",
    "Train.to_csv(f'{ROOT}/Data/Train.csv')"
   ]
  },
  {
   "cell_type": "code",
   "execution_count": 95,
   "outputs": [
    {
     "data": {
      "text/plain": "        Season  WTeamID  WScore  LTeamID  LScore  WFGM  WFGA  WFGM3  WFGA3  \\\n0         2003     1104      68     1328      62    27    58      3     14   \n1         2003     1272      70     1393      63    26    62      8     20   \n2         2003     1266      73     1437      61    24    58      8     18   \n3         2003     1296      56     1457      50    18    38      3      9   \n4         2003     1400      77     1208      71    30    61      6     14   \n...        ...      ...     ...      ...     ...   ...   ...    ...    ...   \n100418    2022     1400      79     1242      76    28    67      3     20   \n100419    2022     1411      66     1126      63    24    59      2     20   \n100420    2022     1422      68     1441      49    23    56     13     32   \n100421    2022     1438      69     1181      68    31    65      2     12   \n100422    2022     1439      74     1338      47    29    55     13     27   \n\n        WFTM  ...   Team1 DR   Team2 DR  Team1 DR A  Team2 DR A   Team1 TO  \\\n0         11  ...  24.966667  23.928571   22.400000   22.642857  11.800000   \n1         10  ...  25.965517  26.896552   23.586207   22.275862  13.793103   \n2         17  ...  23.700000  24.071429   22.900000   18.571429  16.033333   \n3         17  ...  22.645161  23.964286   20.096774   23.821429  17.000000   \n4         11  ...  26.142857  24.592593   22.000000   23.740741  13.428571   \n...      ...  ...        ...        ...         ...         ...        ...   \n100418    20  ...  24.695652  22.416667   20.173913   19.750000  12.695652   \n100419    16  ...  21.454545  24.900000   24.863636   21.750000  12.772727   \n100420     9  ...  24.708333  23.434783   26.333333   20.478261  12.291667   \n100421     5  ...  21.083333  26.782609   20.875000   21.739130   9.333333   \n100422     3  ...  22.291667  22.791667   20.375000   20.791667  10.875000   \n\n         Team2 TO   Team1 TA   Team2 TA  Team1 Pts  Team2 Pts  \n0       13.285714  13.700000  13.857143         62         68  \n1       13.620690  15.068966  14.448276         70         63  \n2       13.571429  16.966667  12.500000         61         73  \n3       14.642857  14.451613  15.642857         56         50  \n4       11.555556  14.178571  13.444444         77         71  \n...           ...        ...        ...        ...        ...  \n100418  10.958333  12.739130  14.791667         76         79  \n100419  14.300000  12.909091  11.650000         63         66  \n100420  12.913043   9.916667  11.608696         49         68  \n100421  10.434783  10.375000  11.695652         69         68  \n100422  12.875000  11.708333   9.833333         74         47  \n\n[100423 rows x 67 columns]",
      "text/html": "<div>\n<style scoped>\n    .dataframe tbody tr th:only-of-type {\n        vertical-align: middle;\n    }\n\n    .dataframe tbody tr th {\n        vertical-align: top;\n    }\n\n    .dataframe thead th {\n        text-align: right;\n    }\n</style>\n<table border=\"1\" class=\"dataframe\">\n  <thead>\n    <tr style=\"text-align: right;\">\n      <th></th>\n      <th>Season</th>\n      <th>WTeamID</th>\n      <th>WScore</th>\n      <th>LTeamID</th>\n      <th>LScore</th>\n      <th>WFGM</th>\n      <th>WFGA</th>\n      <th>WFGM3</th>\n      <th>WFGA3</th>\n      <th>WFTM</th>\n      <th>...</th>\n      <th>Team1 DR</th>\n      <th>Team2 DR</th>\n      <th>Team1 DR A</th>\n      <th>Team2 DR A</th>\n      <th>Team1 TO</th>\n      <th>Team2 TO</th>\n      <th>Team1 TA</th>\n      <th>Team2 TA</th>\n      <th>Team1 Pts</th>\n      <th>Team2 Pts</th>\n    </tr>\n  </thead>\n  <tbody>\n    <tr>\n      <th>0</th>\n      <td>2003</td>\n      <td>1104</td>\n      <td>68</td>\n      <td>1328</td>\n      <td>62</td>\n      <td>27</td>\n      <td>58</td>\n      <td>3</td>\n      <td>14</td>\n      <td>11</td>\n      <td>...</td>\n      <td>24.966667</td>\n      <td>23.928571</td>\n      <td>22.400000</td>\n      <td>22.642857</td>\n      <td>11.800000</td>\n      <td>13.285714</td>\n      <td>13.700000</td>\n      <td>13.857143</td>\n      <td>62</td>\n      <td>68</td>\n    </tr>\n    <tr>\n      <th>1</th>\n      <td>2003</td>\n      <td>1272</td>\n      <td>70</td>\n      <td>1393</td>\n      <td>63</td>\n      <td>26</td>\n      <td>62</td>\n      <td>8</td>\n      <td>20</td>\n      <td>10</td>\n      <td>...</td>\n      <td>25.965517</td>\n      <td>26.896552</td>\n      <td>23.586207</td>\n      <td>22.275862</td>\n      <td>13.793103</td>\n      <td>13.620690</td>\n      <td>15.068966</td>\n      <td>14.448276</td>\n      <td>70</td>\n      <td>63</td>\n    </tr>\n    <tr>\n      <th>2</th>\n      <td>2003</td>\n      <td>1266</td>\n      <td>73</td>\n      <td>1437</td>\n      <td>61</td>\n      <td>24</td>\n      <td>58</td>\n      <td>8</td>\n      <td>18</td>\n      <td>17</td>\n      <td>...</td>\n      <td>23.700000</td>\n      <td>24.071429</td>\n      <td>22.900000</td>\n      <td>18.571429</td>\n      <td>16.033333</td>\n      <td>13.571429</td>\n      <td>16.966667</td>\n      <td>12.500000</td>\n      <td>61</td>\n      <td>73</td>\n    </tr>\n    <tr>\n      <th>3</th>\n      <td>2003</td>\n      <td>1296</td>\n      <td>56</td>\n      <td>1457</td>\n      <td>50</td>\n      <td>18</td>\n      <td>38</td>\n      <td>3</td>\n      <td>9</td>\n      <td>17</td>\n      <td>...</td>\n      <td>22.645161</td>\n      <td>23.964286</td>\n      <td>20.096774</td>\n      <td>23.821429</td>\n      <td>17.000000</td>\n      <td>14.642857</td>\n      <td>14.451613</td>\n      <td>15.642857</td>\n      <td>56</td>\n      <td>50</td>\n    </tr>\n    <tr>\n      <th>4</th>\n      <td>2003</td>\n      <td>1400</td>\n      <td>77</td>\n      <td>1208</td>\n      <td>71</td>\n      <td>30</td>\n      <td>61</td>\n      <td>6</td>\n      <td>14</td>\n      <td>11</td>\n      <td>...</td>\n      <td>26.142857</td>\n      <td>24.592593</td>\n      <td>22.000000</td>\n      <td>23.740741</td>\n      <td>13.428571</td>\n      <td>11.555556</td>\n      <td>14.178571</td>\n      <td>13.444444</td>\n      <td>77</td>\n      <td>71</td>\n    </tr>\n    <tr>\n      <th>...</th>\n      <td>...</td>\n      <td>...</td>\n      <td>...</td>\n      <td>...</td>\n      <td>...</td>\n      <td>...</td>\n      <td>...</td>\n      <td>...</td>\n      <td>...</td>\n      <td>...</td>\n      <td>...</td>\n      <td>...</td>\n      <td>...</td>\n      <td>...</td>\n      <td>...</td>\n      <td>...</td>\n      <td>...</td>\n      <td>...</td>\n      <td>...</td>\n      <td>...</td>\n      <td>...</td>\n    </tr>\n    <tr>\n      <th>100418</th>\n      <td>2022</td>\n      <td>1400</td>\n      <td>79</td>\n      <td>1242</td>\n      <td>76</td>\n      <td>28</td>\n      <td>67</td>\n      <td>3</td>\n      <td>20</td>\n      <td>20</td>\n      <td>...</td>\n      <td>24.695652</td>\n      <td>22.416667</td>\n      <td>20.173913</td>\n      <td>19.750000</td>\n      <td>12.695652</td>\n      <td>10.958333</td>\n      <td>12.739130</td>\n      <td>14.791667</td>\n      <td>76</td>\n      <td>79</td>\n    </tr>\n    <tr>\n      <th>100419</th>\n      <td>2022</td>\n      <td>1411</td>\n      <td>66</td>\n      <td>1126</td>\n      <td>63</td>\n      <td>24</td>\n      <td>59</td>\n      <td>2</td>\n      <td>20</td>\n      <td>16</td>\n      <td>...</td>\n      <td>21.454545</td>\n      <td>24.900000</td>\n      <td>24.863636</td>\n      <td>21.750000</td>\n      <td>12.772727</td>\n      <td>14.300000</td>\n      <td>12.909091</td>\n      <td>11.650000</td>\n      <td>63</td>\n      <td>66</td>\n    </tr>\n    <tr>\n      <th>100420</th>\n      <td>2022</td>\n      <td>1422</td>\n      <td>68</td>\n      <td>1441</td>\n      <td>49</td>\n      <td>23</td>\n      <td>56</td>\n      <td>13</td>\n      <td>32</td>\n      <td>9</td>\n      <td>...</td>\n      <td>24.708333</td>\n      <td>23.434783</td>\n      <td>26.333333</td>\n      <td>20.478261</td>\n      <td>12.291667</td>\n      <td>12.913043</td>\n      <td>9.916667</td>\n      <td>11.608696</td>\n      <td>49</td>\n      <td>68</td>\n    </tr>\n    <tr>\n      <th>100421</th>\n      <td>2022</td>\n      <td>1438</td>\n      <td>69</td>\n      <td>1181</td>\n      <td>68</td>\n      <td>31</td>\n      <td>65</td>\n      <td>2</td>\n      <td>12</td>\n      <td>5</td>\n      <td>...</td>\n      <td>21.083333</td>\n      <td>26.782609</td>\n      <td>20.875000</td>\n      <td>21.739130</td>\n      <td>9.333333</td>\n      <td>10.434783</td>\n      <td>10.375000</td>\n      <td>11.695652</td>\n      <td>69</td>\n      <td>68</td>\n    </tr>\n    <tr>\n      <th>100422</th>\n      <td>2022</td>\n      <td>1439</td>\n      <td>74</td>\n      <td>1338</td>\n      <td>47</td>\n      <td>29</td>\n      <td>55</td>\n      <td>13</td>\n      <td>27</td>\n      <td>3</td>\n      <td>...</td>\n      <td>22.291667</td>\n      <td>22.791667</td>\n      <td>20.375000</td>\n      <td>20.791667</td>\n      <td>10.875000</td>\n      <td>12.875000</td>\n      <td>11.708333</td>\n      <td>9.833333</td>\n      <td>74</td>\n      <td>47</td>\n    </tr>\n  </tbody>\n</table>\n<p>100423 rows × 67 columns</p>\n</div>"
     },
     "execution_count": 95,
     "metadata": {},
     "output_type": "execute_result"
    }
   ],
   "source": [
    "Train"
   ],
   "metadata": {
    "collapsed": false,
    "pycharm": {
     "name": "#%%\n"
    }
   }
  }
 ],
 "metadata": {
  "kernelspec": {
   "display_name": "Python 3 (ipykernel)",
   "language": "python",
   "name": "python3"
  },
  "language_info": {
   "codemirror_mode": {
    "name": "ipython",
    "version": 3
   },
   "file_extension": ".py",
   "mimetype": "text/x-python",
   "name": "python",
   "nbconvert_exporter": "python",
   "pygments_lexer": "ipython3",
   "version": "3.10.2"
  }
 },
 "nbformat": 4,
 "nbformat_minor": 1
}
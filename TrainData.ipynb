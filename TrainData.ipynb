{
 "cells": [
  {
   "cell_type": "code",
   "execution_count": 1,
   "metadata": {
    "collapsed": true
   },
   "outputs": [],
   "source": [
    "import numpy as np\n",
    "import pandas as pd\n",
    "import random\n",
    "\n",
    "ROOT = '/home/robert/DataSpellProjects/marchMadness/'"
   ]
  },
  {
   "cell_type": "code",
   "execution_count": 2,
   "metadata": {
    "pycharm": {
     "name": "#%%\n"
    }
   },
   "outputs": [],
   "source": [
    "RegularSeason = pd.read_csv(f'{ROOT}/Data/MRegularSeasonDetailedResults.csv')\n",
    "Tourney = pd.read_csv(f'{ROOT}/Data/MNCAATourneyCompactResults.csv')\n",
    "TeamIDs = pd.read_csv(f'{ROOT}/Data/MTeams.csv')\n",
    "Rankings = pd.read_csv(f'{ROOT}/Data/MMasseyOrdinals.csv')"
   ]
  },
  {
   "cell_type": "code",
   "execution_count": 2,
   "metadata": {
    "pycharm": {
     "name": "#%%\n"
    }
   },
   "outputs": [],
   "source": []
  },
  {
   "cell_type": "code",
   "execution_count": 3,
   "metadata": {
    "pycharm": {
     "name": "#%%\n"
    }
   },
   "outputs": [],
   "source": [
    "Train = Tourney\n",
    "Train.drop(['DayNum', 'WLoc', 'NumOT'], axis=1, inplace=True)"
   ]
  },
  {
   "cell_type": "code",
   "execution_count": 4,
   "metadata": {
    "pycharm": {
     "name": "#%%\n"
    }
   },
   "outputs": [],
   "source": [
    "def randomize_team(WTeamID):\n",
    "    if random.randint(0,1):\n",
    "        return WTeamID\n",
    "    else:\n",
    "        return np.NaN"
   ]
  },
  {
   "cell_type": "code",
   "execution_count": 5,
   "metadata": {
    "pycharm": {
     "name": "#%%\n"
    }
   },
   "outputs": [
    {
     "data": {
      "text/html": [
       "<div>\n",
       "<style scoped>\n",
       "    .dataframe tbody tr th:only-of-type {\n",
       "        vertical-align: middle;\n",
       "    }\n",
       "\n",
       "    .dataframe tbody tr th {\n",
       "        vertical-align: top;\n",
       "    }\n",
       "\n",
       "    .dataframe thead th {\n",
       "        text-align: right;\n",
       "    }\n",
       "</style>\n",
       "<table border=\"1\" class=\"dataframe\">\n",
       "  <thead>\n",
       "    <tr style=\"text-align: right;\">\n",
       "      <th></th>\n",
       "      <th>Season</th>\n",
       "      <th>Team1</th>\n",
       "      <th>Team2</th>\n",
       "      <th>Team1 Pts</th>\n",
       "      <th>Team2 Pts</th>\n",
       "    </tr>\n",
       "  </thead>\n",
       "  <tbody>\n",
       "    <tr>\n",
       "      <th>0</th>\n",
       "      <td>1985</td>\n",
       "      <td>1116</td>\n",
       "      <td>1234</td>\n",
       "      <td>63</td>\n",
       "      <td>54</td>\n",
       "    </tr>\n",
       "    <tr>\n",
       "      <th>1</th>\n",
       "      <td>1985</td>\n",
       "      <td>1120</td>\n",
       "      <td>1345</td>\n",
       "      <td>59</td>\n",
       "      <td>58</td>\n",
       "    </tr>\n",
       "    <tr>\n",
       "      <th>2</th>\n",
       "      <td>1985</td>\n",
       "      <td>1250</td>\n",
       "      <td>1207</td>\n",
       "      <td>43</td>\n",
       "      <td>68</td>\n",
       "    </tr>\n",
       "    <tr>\n",
       "      <th>3</th>\n",
       "      <td>1985</td>\n",
       "      <td>1229</td>\n",
       "      <td>1425</td>\n",
       "      <td>58</td>\n",
       "      <td>55</td>\n",
       "    </tr>\n",
       "    <tr>\n",
       "      <th>4</th>\n",
       "      <td>1985</td>\n",
       "      <td>1325</td>\n",
       "      <td>1242</td>\n",
       "      <td>38</td>\n",
       "      <td>49</td>\n",
       "    </tr>\n",
       "    <tr>\n",
       "      <th>...</th>\n",
       "      <td>...</td>\n",
       "      <td>...</td>\n",
       "      <td>...</td>\n",
       "      <td>...</td>\n",
       "      <td>...</td>\n",
       "    </tr>\n",
       "    <tr>\n",
       "      <th>2312</th>\n",
       "      <td>2021</td>\n",
       "      <td>1211</td>\n",
       "      <td>1425</td>\n",
       "      <td>85</td>\n",
       "      <td>66</td>\n",
       "    </tr>\n",
       "    <tr>\n",
       "      <th>2313</th>\n",
       "      <td>2021</td>\n",
       "      <td>1417</td>\n",
       "      <td>1276</td>\n",
       "      <td>51</td>\n",
       "      <td>49</td>\n",
       "    </tr>\n",
       "    <tr>\n",
       "      <th>2314</th>\n",
       "      <td>2021</td>\n",
       "      <td>1124</td>\n",
       "      <td>1222</td>\n",
       "      <td>78</td>\n",
       "      <td>59</td>\n",
       "    </tr>\n",
       "    <tr>\n",
       "      <th>2315</th>\n",
       "      <td>2021</td>\n",
       "      <td>1417</td>\n",
       "      <td>1211</td>\n",
       "      <td>90</td>\n",
       "      <td>93</td>\n",
       "    </tr>\n",
       "    <tr>\n",
       "      <th>2316</th>\n",
       "      <td>2021</td>\n",
       "      <td>1211</td>\n",
       "      <td>1124</td>\n",
       "      <td>70</td>\n",
       "      <td>86</td>\n",
       "    </tr>\n",
       "  </tbody>\n",
       "</table>\n",
       "<p>2317 rows × 5 columns</p>\n",
       "</div>"
      ],
      "text/plain": [
       "      Season  Team1  Team2  Team1 Pts  Team2 Pts\n",
       "0       1985   1116   1234         63         54\n",
       "1       1985   1120   1345         59         58\n",
       "2       1985   1250   1207         43         68\n",
       "3       1985   1229   1425         58         55\n",
       "4       1985   1325   1242         38         49\n",
       "...      ...    ...    ...        ...        ...\n",
       "2312    2021   1211   1425         85         66\n",
       "2313    2021   1417   1276         51         49\n",
       "2314    2021   1124   1222         78         59\n",
       "2315    2021   1417   1211         90         93\n",
       "2316    2021   1211   1124         70         86\n",
       "\n",
       "[2317 rows x 5 columns]"
      ]
     },
     "execution_count": 5,
     "metadata": {},
     "output_type": "execute_result"
    }
   ],
   "source": [
    "Train['Team1'] = Train['WTeamID'].apply(lambda x: randomize_team(x))\n",
    "Train['Team1'].fillna(Train.LTeamID, inplace=True)\n",
    "Train['Team1'] = Train['Team1'].astype(int)\n",
    "Train['Team2'] = np.where(Train['WTeamID']==Train['Team1'], Train['LTeamID'], Train['WTeamID'])\n",
    "Train['Team1 Pts'] = np.where(Train['Team1']==Train['WTeamID'], Train['WScore'], Train['LScore'])\n",
    "Train['Team2 Pts'] = np.where(Train['Team2']==Train['WTeamID'], Train['WScore'], Train['LScore'])\n",
    "Train.drop(['WScore', 'LTeamID', 'LScore', 'WTeamID'], axis=1, inplace=True)\n",
    "Train"
   ]
  },
  {
   "cell_type": "code",
   "execution_count": 6,
   "metadata": {
    "pycharm": {
     "name": "#%%\n"
    }
   },
   "outputs": [
    {
     "name": "stderr",
     "output_type": "stream",
     "text": [
      "/tmp/ipykernel_2836/2960857548.py:4: RuntimeWarning: invalid value encountered in long_scalars\n",
      "  return temp['OrdinalRank'].sum() / len(temp.index)\n"
     ]
    },
    {
     "ename": "KeyboardInterrupt",
     "evalue": "",
     "output_type": "error",
     "traceback": [
      "\u001b[0;31m---------------------------------------------------------------------------\u001b[0m",
      "\u001b[0;31mKeyboardInterrupt\u001b[0m                         Traceback (most recent call last)",
      "Input \u001b[0;32mIn [6]\u001b[0m, in \u001b[0;36m<module>\u001b[0;34m\u001b[0m\n\u001b[1;32m      3\u001b[0m     temp \u001b[38;5;241m=\u001b[39m temp[temp\u001b[38;5;241m.\u001b[39mSeason\u001b[38;5;241m==\u001b[39myear]\n\u001b[1;32m      4\u001b[0m     \u001b[38;5;28;01mreturn\u001b[39;00m temp[\u001b[38;5;124m'\u001b[39m\u001b[38;5;124mOrdinalRank\u001b[39m\u001b[38;5;124m'\u001b[39m]\u001b[38;5;241m.\u001b[39msum() \u001b[38;5;241m/\u001b[39m \u001b[38;5;28mlen\u001b[39m(temp\u001b[38;5;241m.\u001b[39mindex)\n\u001b[0;32m----> 5\u001b[0m Train[\u001b[38;5;124m'\u001b[39m\u001b[38;5;124mTeam1 Rank\u001b[39m\u001b[38;5;124m'\u001b[39m] \u001b[38;5;241m=\u001b[39m \u001b[43mTrain\u001b[49m\u001b[38;5;241;43m.\u001b[39;49m\u001b[43mapply\u001b[49m\u001b[43m(\u001b[49m\u001b[38;5;28;43;01mlambda\u001b[39;49;00m\u001b[43m \u001b[49m\u001b[43mx\u001b[49m\u001b[43m:\u001b[49m\u001b[43m \u001b[49m\u001b[43mget_team_rank\u001b[49m\u001b[43m(\u001b[49m\u001b[43mx\u001b[49m\u001b[43m[\u001b[49m\u001b[38;5;124;43m'\u001b[39;49m\u001b[38;5;124;43mTeam1\u001b[39;49m\u001b[38;5;124;43m'\u001b[39;49m\u001b[43m]\u001b[49m\u001b[43m,\u001b[49m\u001b[43m \u001b[49m\u001b[43mx\u001b[49m\u001b[43m[\u001b[49m\u001b[38;5;124;43m'\u001b[39;49m\u001b[38;5;124;43mSeason\u001b[39;49m\u001b[38;5;124;43m'\u001b[39;49m\u001b[43m]\u001b[49m\u001b[43m)\u001b[49m\u001b[43m,\u001b[49m\u001b[43m \u001b[49m\u001b[43maxis\u001b[49m\u001b[38;5;241;43m=\u001b[39;49m\u001b[38;5;241;43m1\u001b[39;49m\u001b[43m)\u001b[49m\n\u001b[1;32m      6\u001b[0m Train[\u001b[38;5;124m'\u001b[39m\u001b[38;5;124mTeam2 Rank\u001b[39m\u001b[38;5;124m'\u001b[39m] \u001b[38;5;241m=\u001b[39m Train\u001b[38;5;241m.\u001b[39mapply(\u001b[38;5;28;01mlambda\u001b[39;00m x: get_team_rank(x[\u001b[38;5;124m'\u001b[39m\u001b[38;5;124mTeam2\u001b[39m\u001b[38;5;124m'\u001b[39m], x[\u001b[38;5;124m'\u001b[39m\u001b[38;5;124mSeason\u001b[39m\u001b[38;5;124m'\u001b[39m]), axis\u001b[38;5;241m=\u001b[39m\u001b[38;5;241m1\u001b[39m)\n",
      "File \u001b[0;32m/usr/lib/python3.10/site-packages/pandas/core/frame.py:8827\u001b[0m, in \u001b[0;36mDataFrame.apply\u001b[0;34m(self, func, axis, raw, result_type, args, **kwargs)\u001b[0m\n\u001b[1;32m   8816\u001b[0m \u001b[38;5;28;01mfrom\u001b[39;00m \u001b[38;5;21;01mpandas\u001b[39;00m\u001b[38;5;21;01m.\u001b[39;00m\u001b[38;5;21;01mcore\u001b[39;00m\u001b[38;5;21;01m.\u001b[39;00m\u001b[38;5;21;01mapply\u001b[39;00m \u001b[38;5;28;01mimport\u001b[39;00m frame_apply\n\u001b[1;32m   8818\u001b[0m op \u001b[38;5;241m=\u001b[39m frame_apply(\n\u001b[1;32m   8819\u001b[0m     \u001b[38;5;28mself\u001b[39m,\n\u001b[1;32m   8820\u001b[0m     func\u001b[38;5;241m=\u001b[39mfunc,\n\u001b[0;32m   (...)\u001b[0m\n\u001b[1;32m   8825\u001b[0m     kwargs\u001b[38;5;241m=\u001b[39mkwargs,\n\u001b[1;32m   8826\u001b[0m )\n\u001b[0;32m-> 8827\u001b[0m \u001b[38;5;28;01mreturn\u001b[39;00m \u001b[43mop\u001b[49m\u001b[38;5;241;43m.\u001b[39;49m\u001b[43mapply\u001b[49m\u001b[43m(\u001b[49m\u001b[43m)\u001b[49m\u001b[38;5;241m.\u001b[39m__finalize__(\u001b[38;5;28mself\u001b[39m, method\u001b[38;5;241m=\u001b[39m\u001b[38;5;124m\"\u001b[39m\u001b[38;5;124mapply\u001b[39m\u001b[38;5;124m\"\u001b[39m)\n",
      "File \u001b[0;32m/usr/lib/python3.10/site-packages/pandas/core/apply.py:727\u001b[0m, in \u001b[0;36mFrameApply.apply\u001b[0;34m(self)\u001b[0m\n\u001b[1;32m    724\u001b[0m \u001b[38;5;28;01melif\u001b[39;00m \u001b[38;5;28mself\u001b[39m\u001b[38;5;241m.\u001b[39mraw:\n\u001b[1;32m    725\u001b[0m     \u001b[38;5;28;01mreturn\u001b[39;00m \u001b[38;5;28mself\u001b[39m\u001b[38;5;241m.\u001b[39mapply_raw()\n\u001b[0;32m--> 727\u001b[0m \u001b[38;5;28;01mreturn\u001b[39;00m \u001b[38;5;28;43mself\u001b[39;49m\u001b[38;5;241;43m.\u001b[39;49m\u001b[43mapply_standard\u001b[49m\u001b[43m(\u001b[49m\u001b[43m)\u001b[49m\n",
      "File \u001b[0;32m/usr/lib/python3.10/site-packages/pandas/core/apply.py:851\u001b[0m, in \u001b[0;36mFrameApply.apply_standard\u001b[0;34m(self)\u001b[0m\n\u001b[1;32m    850\u001b[0m \u001b[38;5;28;01mdef\u001b[39;00m \u001b[38;5;21mapply_standard\u001b[39m(\u001b[38;5;28mself\u001b[39m):\n\u001b[0;32m--> 851\u001b[0m     results, res_index \u001b[38;5;241m=\u001b[39m \u001b[38;5;28;43mself\u001b[39;49m\u001b[38;5;241;43m.\u001b[39;49m\u001b[43mapply_series_generator\u001b[49m\u001b[43m(\u001b[49m\u001b[43m)\u001b[49m\n\u001b[1;32m    853\u001b[0m     \u001b[38;5;66;03m# wrap results\u001b[39;00m\n\u001b[1;32m    854\u001b[0m     \u001b[38;5;28;01mreturn\u001b[39;00m \u001b[38;5;28mself\u001b[39m\u001b[38;5;241m.\u001b[39mwrap_results(results, res_index)\n",
      "File \u001b[0;32m/usr/lib/python3.10/site-packages/pandas/core/apply.py:867\u001b[0m, in \u001b[0;36mFrameApply.apply_series_generator\u001b[0;34m(self)\u001b[0m\n\u001b[1;32m    864\u001b[0m \u001b[38;5;28;01mwith\u001b[39;00m option_context(\u001b[38;5;124m\"\u001b[39m\u001b[38;5;124mmode.chained_assignment\u001b[39m\u001b[38;5;124m\"\u001b[39m, \u001b[38;5;28;01mNone\u001b[39;00m):\n\u001b[1;32m    865\u001b[0m     \u001b[38;5;28;01mfor\u001b[39;00m i, v \u001b[38;5;129;01min\u001b[39;00m \u001b[38;5;28menumerate\u001b[39m(series_gen):\n\u001b[1;32m    866\u001b[0m         \u001b[38;5;66;03m# ignore SettingWithCopy here in case the user mutates\u001b[39;00m\n\u001b[0;32m--> 867\u001b[0m         results[i] \u001b[38;5;241m=\u001b[39m \u001b[38;5;28;43mself\u001b[39;49m\u001b[38;5;241;43m.\u001b[39;49m\u001b[43mf\u001b[49m\u001b[43m(\u001b[49m\u001b[43mv\u001b[49m\u001b[43m)\u001b[49m\n\u001b[1;32m    868\u001b[0m         \u001b[38;5;28;01mif\u001b[39;00m \u001b[38;5;28misinstance\u001b[39m(results[i], ABCSeries):\n\u001b[1;32m    869\u001b[0m             \u001b[38;5;66;03m# If we have a view on v, we need to make a copy because\u001b[39;00m\n\u001b[1;32m    870\u001b[0m             \u001b[38;5;66;03m#  series_generator will swap out the underlying data\u001b[39;00m\n\u001b[1;32m    871\u001b[0m             results[i] \u001b[38;5;241m=\u001b[39m results[i]\u001b[38;5;241m.\u001b[39mcopy(deep\u001b[38;5;241m=\u001b[39m\u001b[38;5;28;01mFalse\u001b[39;00m)\n",
      "Input \u001b[0;32mIn [6]\u001b[0m, in \u001b[0;36m<lambda>\u001b[0;34m(x)\u001b[0m\n\u001b[1;32m      3\u001b[0m     temp \u001b[38;5;241m=\u001b[39m temp[temp\u001b[38;5;241m.\u001b[39mSeason\u001b[38;5;241m==\u001b[39myear]\n\u001b[1;32m      4\u001b[0m     \u001b[38;5;28;01mreturn\u001b[39;00m temp[\u001b[38;5;124m'\u001b[39m\u001b[38;5;124mOrdinalRank\u001b[39m\u001b[38;5;124m'\u001b[39m]\u001b[38;5;241m.\u001b[39msum() \u001b[38;5;241m/\u001b[39m \u001b[38;5;28mlen\u001b[39m(temp\u001b[38;5;241m.\u001b[39mindex)\n\u001b[0;32m----> 5\u001b[0m Train[\u001b[38;5;124m'\u001b[39m\u001b[38;5;124mTeam1 Rank\u001b[39m\u001b[38;5;124m'\u001b[39m] \u001b[38;5;241m=\u001b[39m Train\u001b[38;5;241m.\u001b[39mapply(\u001b[38;5;28;01mlambda\u001b[39;00m x: \u001b[43mget_team_rank\u001b[49m\u001b[43m(\u001b[49m\u001b[43mx\u001b[49m\u001b[43m[\u001b[49m\u001b[38;5;124;43m'\u001b[39;49m\u001b[38;5;124;43mTeam1\u001b[39;49m\u001b[38;5;124;43m'\u001b[39;49m\u001b[43m]\u001b[49m\u001b[43m,\u001b[49m\u001b[43m \u001b[49m\u001b[43mx\u001b[49m\u001b[43m[\u001b[49m\u001b[38;5;124;43m'\u001b[39;49m\u001b[38;5;124;43mSeason\u001b[39;49m\u001b[38;5;124;43m'\u001b[39;49m\u001b[43m]\u001b[49m\u001b[43m)\u001b[49m, axis\u001b[38;5;241m=\u001b[39m\u001b[38;5;241m1\u001b[39m)\n\u001b[1;32m      6\u001b[0m Train[\u001b[38;5;124m'\u001b[39m\u001b[38;5;124mTeam2 Rank\u001b[39m\u001b[38;5;124m'\u001b[39m] \u001b[38;5;241m=\u001b[39m Train\u001b[38;5;241m.\u001b[39mapply(\u001b[38;5;28;01mlambda\u001b[39;00m x: get_team_rank(x[\u001b[38;5;124m'\u001b[39m\u001b[38;5;124mTeam2\u001b[39m\u001b[38;5;124m'\u001b[39m], x[\u001b[38;5;124m'\u001b[39m\u001b[38;5;124mSeason\u001b[39m\u001b[38;5;124m'\u001b[39m]), axis\u001b[38;5;241m=\u001b[39m\u001b[38;5;241m1\u001b[39m)\n",
      "Input \u001b[0;32mIn [6]\u001b[0m, in \u001b[0;36mget_team_rank\u001b[0;34m(team_id, year)\u001b[0m\n\u001b[1;32m      1\u001b[0m \u001b[38;5;28;01mdef\u001b[39;00m \u001b[38;5;21mget_team_rank\u001b[39m(team_id, year):\n\u001b[0;32m----> 2\u001b[0m     temp \u001b[38;5;241m=\u001b[39m Rankings[\u001b[43mRankings\u001b[49m\u001b[38;5;241;43m.\u001b[39;49m\u001b[43mTeamID\u001b[49m\u001b[38;5;241;43m==\u001b[39;49m\u001b[43mteam_id\u001b[49m]\n\u001b[1;32m      3\u001b[0m     temp \u001b[38;5;241m=\u001b[39m temp[temp\u001b[38;5;241m.\u001b[39mSeason\u001b[38;5;241m==\u001b[39myear]\n\u001b[1;32m      4\u001b[0m     \u001b[38;5;28;01mreturn\u001b[39;00m temp[\u001b[38;5;124m'\u001b[39m\u001b[38;5;124mOrdinalRank\u001b[39m\u001b[38;5;124m'\u001b[39m]\u001b[38;5;241m.\u001b[39msum() \u001b[38;5;241m/\u001b[39m \u001b[38;5;28mlen\u001b[39m(temp\u001b[38;5;241m.\u001b[39mindex)\n",
      "File \u001b[0;32m/usr/lib/python3.10/site-packages/pandas/core/ops/common.py:70\u001b[0m, in \u001b[0;36m_unpack_zerodim_and_defer.<locals>.new_method\u001b[0;34m(self, other)\u001b[0m\n\u001b[1;32m     66\u001b[0m             \u001b[38;5;28;01mreturn\u001b[39;00m \u001b[38;5;28mNotImplemented\u001b[39m\n\u001b[1;32m     68\u001b[0m other \u001b[38;5;241m=\u001b[39m item_from_zerodim(other)\n\u001b[0;32m---> 70\u001b[0m \u001b[38;5;28;01mreturn\u001b[39;00m \u001b[43mmethod\u001b[49m\u001b[43m(\u001b[49m\u001b[38;5;28;43mself\u001b[39;49m\u001b[43m,\u001b[49m\u001b[43m \u001b[49m\u001b[43mother\u001b[49m\u001b[43m)\u001b[49m\n",
      "File \u001b[0;32m/usr/lib/python3.10/site-packages/pandas/core/arraylike.py:40\u001b[0m, in \u001b[0;36mOpsMixin.__eq__\u001b[0;34m(self, other)\u001b[0m\n\u001b[1;32m     38\u001b[0m \u001b[38;5;129m@unpack_zerodim_and_defer\u001b[39m(\u001b[38;5;124m\"\u001b[39m\u001b[38;5;124m__eq__\u001b[39m\u001b[38;5;124m\"\u001b[39m)\n\u001b[1;32m     39\u001b[0m \u001b[38;5;28;01mdef\u001b[39;00m \u001b[38;5;21m__eq__\u001b[39m(\u001b[38;5;28mself\u001b[39m, other):\n\u001b[0;32m---> 40\u001b[0m     \u001b[38;5;28;01mreturn\u001b[39;00m \u001b[38;5;28;43mself\u001b[39;49m\u001b[38;5;241;43m.\u001b[39;49m\u001b[43m_cmp_method\u001b[49m\u001b[43m(\u001b[49m\u001b[43mother\u001b[49m\u001b[43m,\u001b[49m\u001b[43m \u001b[49m\u001b[43moperator\u001b[49m\u001b[38;5;241;43m.\u001b[39;49m\u001b[43meq\u001b[49m\u001b[43m)\u001b[49m\n",
      "File \u001b[0;32m/usr/lib/python3.10/site-packages/pandas/core/series.py:5622\u001b[0m, in \u001b[0;36mSeries._cmp_method\u001b[0;34m(self, other, op)\u001b[0m\n\u001b[1;32m   5619\u001b[0m \u001b[38;5;28;01mwith\u001b[39;00m np\u001b[38;5;241m.\u001b[39merrstate(\u001b[38;5;28mall\u001b[39m\u001b[38;5;241m=\u001b[39m\u001b[38;5;124m\"\u001b[39m\u001b[38;5;124mignore\u001b[39m\u001b[38;5;124m\"\u001b[39m):\n\u001b[1;32m   5620\u001b[0m     res_values \u001b[38;5;241m=\u001b[39m ops\u001b[38;5;241m.\u001b[39mcomparison_op(lvalues, rvalues, op)\n\u001b[0;32m-> 5622\u001b[0m \u001b[38;5;28;01mreturn\u001b[39;00m \u001b[38;5;28;43mself\u001b[39;49m\u001b[38;5;241;43m.\u001b[39;49m\u001b[43m_construct_result\u001b[49m\u001b[43m(\u001b[49m\u001b[43mres_values\u001b[49m\u001b[43m,\u001b[49m\u001b[43m \u001b[49m\u001b[43mname\u001b[49m\u001b[38;5;241;43m=\u001b[39;49m\u001b[43mres_name\u001b[49m\u001b[43m)\u001b[49m\n",
      "File \u001b[0;32m/usr/lib/python3.10/site-packages/pandas/core/series.py:3020\u001b[0m, in \u001b[0;36mSeries._construct_result\u001b[0;34m(self, result, name)\u001b[0m\n\u001b[1;32m   3016\u001b[0m     \u001b[38;5;28;01mreturn\u001b[39;00m (res1, res2)\n\u001b[1;32m   3018\u001b[0m \u001b[38;5;66;03m# We do not pass dtype to ensure that the Series constructor\u001b[39;00m\n\u001b[1;32m   3019\u001b[0m \u001b[38;5;66;03m#  does inference in the case where `result` has object-dtype.\u001b[39;00m\n\u001b[0;32m-> 3020\u001b[0m out \u001b[38;5;241m=\u001b[39m \u001b[38;5;28;43mself\u001b[39;49m\u001b[38;5;241;43m.\u001b[39;49m\u001b[43m_constructor\u001b[49m\u001b[43m(\u001b[49m\u001b[43mresult\u001b[49m\u001b[43m,\u001b[49m\u001b[43m \u001b[49m\u001b[43mindex\u001b[49m\u001b[38;5;241;43m=\u001b[39;49m\u001b[38;5;28;43mself\u001b[39;49m\u001b[38;5;241;43m.\u001b[39;49m\u001b[43mindex\u001b[49m\u001b[43m)\u001b[49m\n\u001b[1;32m   3021\u001b[0m out \u001b[38;5;241m=\u001b[39m out\u001b[38;5;241m.\u001b[39m__finalize__(\u001b[38;5;28mself\u001b[39m)\n\u001b[1;32m   3023\u001b[0m \u001b[38;5;66;03m# Set the result's name after __finalize__ is called because __finalize__\u001b[39;00m\n\u001b[1;32m   3024\u001b[0m \u001b[38;5;66;03m#  would set it back to self.name\u001b[39;00m\n",
      "File \u001b[0;32m/usr/lib/python3.10/site-packages/pandas/core/series.py:452\u001b[0m, in \u001b[0;36mSeries.__init__\u001b[0;34m(self, data, index, dtype, name, copy, fastpath)\u001b[0m\n\u001b[1;32m    450\u001b[0m         data \u001b[38;5;241m=\u001b[39m data\u001b[38;5;241m.\u001b[39mcopy()\n\u001b[1;32m    451\u001b[0m \u001b[38;5;28;01melse\u001b[39;00m:\n\u001b[0;32m--> 452\u001b[0m     data \u001b[38;5;241m=\u001b[39m \u001b[43msanitize_array\u001b[49m\u001b[43m(\u001b[49m\u001b[43mdata\u001b[49m\u001b[43m,\u001b[49m\u001b[43m \u001b[49m\u001b[43mindex\u001b[49m\u001b[43m,\u001b[49m\u001b[43m \u001b[49m\u001b[43mdtype\u001b[49m\u001b[43m,\u001b[49m\u001b[43m \u001b[49m\u001b[43mcopy\u001b[49m\u001b[43m)\u001b[49m\n\u001b[1;32m    454\u001b[0m     manager \u001b[38;5;241m=\u001b[39m get_option(\u001b[38;5;124m\"\u001b[39m\u001b[38;5;124mmode.data_manager\u001b[39m\u001b[38;5;124m\"\u001b[39m)\n\u001b[1;32m    455\u001b[0m     \u001b[38;5;28;01mif\u001b[39;00m manager \u001b[38;5;241m==\u001b[39m \u001b[38;5;124m\"\u001b[39m\u001b[38;5;124mblock\u001b[39m\u001b[38;5;124m\"\u001b[39m:\n",
      "File \u001b[0;32m/usr/lib/python3.10/site-packages/pandas/core/construction.py:513\u001b[0m, in \u001b[0;36msanitize_array\u001b[0;34m(data, index, dtype, copy, raise_cast_failure, allow_2d)\u001b[0m\n\u001b[1;32m    510\u001b[0m \u001b[38;5;66;03m# extract ndarray or ExtensionArray, ensure we have no PandasArray\u001b[39;00m\n\u001b[1;32m    511\u001b[0m data \u001b[38;5;241m=\u001b[39m extract_array(data, extract_numpy\u001b[38;5;241m=\u001b[39m\u001b[38;5;28;01mTrue\u001b[39;00m)\n\u001b[0;32m--> 513\u001b[0m \u001b[38;5;28;01mif\u001b[39;00m \u001b[38;5;28misinstance\u001b[39m(data, np\u001b[38;5;241m.\u001b[39mndarray) \u001b[38;5;129;01mand\u001b[39;00m data\u001b[38;5;241m.\u001b[39mndim \u001b[38;5;241m==\u001b[39m \u001b[38;5;241m0\u001b[39m:\n\u001b[1;32m    514\u001b[0m     \u001b[38;5;28;01mif\u001b[39;00m dtype \u001b[38;5;129;01mis\u001b[39;00m \u001b[38;5;28;01mNone\u001b[39;00m:\n\u001b[1;32m    515\u001b[0m         dtype \u001b[38;5;241m=\u001b[39m data\u001b[38;5;241m.\u001b[39mdtype\n",
      "\u001b[0;31mKeyboardInterrupt\u001b[0m: "
     ]
    }
   ],
   "source": [
    "def get_team_rank(team_id, year):\n",
    "    temp = Rankings[Rankings.TeamID==team_id]\n",
    "    temp = temp[temp.Season==year]\n",
    "    return temp['OrdinalRank'].sum() / len(temp.index)\n",
    "Train['Team1 Rank'] = Train.apply(lambda x: get_team_rank(x['Team1'], x['Season']), axis=1)\n",
    "Train['Team2 Rank'] = Train.apply(lambda x: get_team_rank(x['Team2'], x['Season']), axis=1)"
   ]
  },
  {
   "cell_type": "code",
   "execution_count": null,
   "metadata": {
    "pycharm": {
     "name": "#%%\n"
    }
   },
   "outputs": [],
   "source": [
    "def split_season(team, year):\n",
    "    win_df = RegularSeason[RegularSeason.WTeamID==team]\n",
    "    win_df = win_df[win_df.Season==year]\n",
    "    loss_df = RegularSeason[RegularSeason.LTeamID==team]\n",
    "    loss_df = loss_df[loss_df.Season==year]\n",
    "    num_games = len(win_df) + len(loss_df)\n",
    "    if num_games == 0:\n",
    "        num_games = 1\n",
    "    return win_df, loss_df, num_games"
   ]
  },
  {
   "cell_type": "code",
   "execution_count": null,
   "metadata": {
    "pycharm": {
     "name": "#%%\n"
    }
   },
   "outputs": [],
   "source": [
    "def get_win_perc(team, year):\n",
    "    win_df, loss_df, num_games = split_season(team, year)\n",
    "    return len(win_df) / num_games\n",
    "Train['Team1 Win%'] = Train.apply(lambda x:get_win_perc(x['Team1'], x['Season']), axis=1)\n",
    "Train['Team2 Win%'] = Train.apply(lambda x:get_win_perc(x['Team2'], x['Season']), axis=1)"
   ]
  },
  {
   "cell_type": "code",
   "execution_count": null,
   "metadata": {
    "pycharm": {
     "name": "#%%\n"
    }
   },
   "outputs": [],
   "source": [
    "def get_points_avg(team, year):\n",
    "    win_df, loss_df, num_games = split_season(team, year)\n",
    "    return (win_df['WScore'].sum() + loss_df['LScore'].sum())/num_games\n",
    "Train['Team1 Avg Pts'] = Train.apply(lambda x:get_points_avg(x['Team1'], x['Season']), axis=1)\n",
    "Train['Team2 Avg Pts'] = Train.apply(lambda x:get_points_avg(x['Team2'], x['Season']), axis=1)"
   ]
  },
  {
   "cell_type": "code",
   "execution_count": null,
   "metadata": {
    "pycharm": {
     "name": "#%%\n"
    }
   },
   "outputs": [],
   "source": [
    "def get_points_a_avg(team, year):\n",
    "    win_df, loss_df, num_games = split_season(team, year)\n",
    "    return (win_df['LScore'].sum() + loss_df['WScore'].sum())/num_games\n",
    "Train['Team1 Avg Pts A'] = Train.apply(lambda x:get_points_a_avg(x['Team1'], x['Season']), axis=1)\n",
    "Train['Team2 Avg Pts A'] = Train.apply(lambda x:get_points_a_avg(x['Team2'], x['Season']), axis=1)"
   ]
  },
  {
   "cell_type": "code",
   "execution_count": null,
   "metadata": {
    "pycharm": {
     "name": "#%%\n"
    }
   },
   "outputs": [],
   "source": [
    "def get_fg_perc(team, year):\n",
    "    win_df, loss_df, num_games = split_season(team, year)\n",
    "    return (win_df['WFGM'].sum() + loss_df['LFGM'].sum()) / (win_df['WFGA'].sum()+loss_df['LFGA'].sum())\n",
    "Train['Team1 Fg%'] = Train.apply(lambda x:get_fg_perc(x['Team1'], x['Season']), axis=1)\n",
    "Train['Team2 Fg%'] = Train.apply(lambda x:get_fg_perc(x['Team2'], x['Season']), axis=1)"
   ]
  },
  {
   "cell_type": "code",
   "execution_count": null,
   "metadata": {
    "pycharm": {
     "name": "#%%\n"
    }
   },
   "outputs": [],
   "source": [
    "def get_fg_perc_a(team, year):\n",
    "    win_df, loss_df, num_games = split_season(team, year)\n",
    "    return (win_df['LFGM'].sum() + loss_df['WFGM'].sum()) / (win_df['LFGA'].sum()+loss_df['WFGA'].sum())\n",
    "Train['Team1 Fg% A'] = Train.apply(lambda x:get_fg_perc_a(x['Team1'], x['Season']), axis=1)\n",
    "Train['Team2 Fg% A'] = Train.apply(lambda x:get_fg_perc_a(x['Team2'], x['Season']), axis=1)"
   ]
  },
  {
   "cell_type": "code",
   "execution_count": null,
   "metadata": {
    "pycharm": {
     "name": "#%%\n"
    }
   },
   "outputs": [],
   "source": [
    "def get_three_perc(team, year):\n",
    "    win_df, loss_df, num_games = split_season(team, year)\n",
    "    return (win_df['WFGM3'].sum() + loss_df['LFGM3'].sum()) / (win_df['WFGA3'].sum()+loss_df['LFGA3'].sum())\n",
    "Train['Team1 3%'] = Train.apply(lambda x:get_three_perc(x['Team1'], x['Season']), axis=1)\n",
    "Train['Team2 3%'] = Train.apply(lambda x:get_three_perc(x['Team2'], x['Season']), axis=1)"
   ]
  },
  {
   "cell_type": "code",
   "execution_count": null,
   "metadata": {
    "pycharm": {
     "name": "#%%\n"
    }
   },
   "outputs": [],
   "source": [
    "def get_three_perc_a(team, year):\n",
    "    win_df, loss_df, num_games = split_season(team, year)\n",
    "    return (win_df['LFGM3'].sum() + loss_df['WFGM3'].sum()) / (win_df['LFGA3'].sum()+loss_df['WFGA3'].sum())\n",
    "Train['Team1 3% A'] = Train.apply(lambda x:get_three_perc_a(x['Team1'], x['Season']), axis=1)\n",
    "Train['Team2 3% A'] = Train.apply(lambda x:get_three_perc_a(x['Team2'], x['Season']), axis=1)"
   ]
  },
  {
   "cell_type": "code",
   "execution_count": null,
   "metadata": {
    "pycharm": {
     "name": "#%%\n"
    }
   },
   "outputs": [],
   "source": [
    "def get_freethrows(team, year):\n",
    "    win_df, loss_df, num_games = split_season(team, year)\n",
    "    return win_df['WFTM'].sum()+loss_df['LFTM'].sum()\n",
    "Train['Team1 FT'] = Train.apply(lambda x:get_freethrows(x['Team1'], x['Season']), axis=1)\n",
    "Train['Team2 FT'] = Train.apply(lambda x:get_freethrows(x['Team2'], x['Season']), axis=1)"
   ]
  },
  {
   "cell_type": "code",
   "execution_count": null,
   "metadata": {
    "pycharm": {
     "name": "#%%\n"
    }
   },
   "outputs": [],
   "source": [
    "def get_freethrows_a(team, year):\n",
    "    win_df, loss_df, num_games = split_season(team, year)\n",
    "    return win_df['LFTM'].sum()+loss_df['WFTM'].sum()\n",
    "Train['Team1 FT A'] = Train.apply(lambda x:get_freethrows_a(x['Team1'], x['Season']), axis=1)\n",
    "Train['Team2 FT A'] = Train.apply(lambda x:get_freethrows_a(x['Team2'], x['Season']), axis=1)"
   ]
  },
  {
   "cell_type": "code",
   "execution_count": null,
   "metadata": {
    "pycharm": {
     "name": "#%%\n"
    }
   },
   "outputs": [],
   "source": [
    "def get_or(team, year):\n",
    "    win_df, loss_df, num_games = split_season(team, year)\n",
    "    return (win_df['WOR'].sum() + loss_df['LOR'].sum()) / num_games\n",
    "Train['Team1 OR'] = Train.apply(lambda x:get_or(x['Team1'], x['Season']), axis=1)\n",
    "Train['Team2 OR'] = Train.apply(lambda x:get_or(x['Team2'], x['Season']), axis=1)"
   ]
  },
  {
   "cell_type": "code",
   "execution_count": null,
   "metadata": {
    "pycharm": {
     "name": "#%%\n"
    }
   },
   "outputs": [],
   "source": [
    "def get_or_a(team, year):\n",
    "    win_df, loss_df, num_games = split_season(team, year)\n",
    "    return (win_df['LOR'].sum() + loss_df['WOR'].sum()) / num_games\n",
    "Train['Team1 OR A'] = Train.apply(lambda x:get_or_a(x['Team1'], x['Season']), axis=1)\n",
    "Train['Team2 OR A'] = Train.apply(lambda x:get_or_a(x['Team2'], x['Season']), axis=1)"
   ]
  },
  {
   "cell_type": "code",
   "execution_count": null,
   "metadata": {
    "pycharm": {
     "name": "#%%\n"
    }
   },
   "outputs": [],
   "source": [
    "def get_dr(team, year):\n",
    "    win_df, loss_df, num_games = split_season(team, year)\n",
    "    return (win_df['WDR'].sum() + loss_df['LDR'].sum()) / num_games\n",
    "Train['Team1 DR'] = Train.apply(lambda x:get_dr(x['Team1'], x['Season']), axis=1)\n",
    "Train['Team2 DR'] = Train.apply(lambda x:get_dr(x['Team2'], x['Season']), axis=1)"
   ]
  },
  {
   "cell_type": "code",
   "execution_count": null,
   "metadata": {
    "pycharm": {
     "name": "#%%\n"
    }
   },
   "outputs": [],
   "source": [
    "def get_dr_a(team, year):\n",
    "    win_df, loss_df, num_games = split_season(team, year)\n",
    "    return (win_df['LDR'].sum() + loss_df['WDR'].sum()) / num_games\n",
    "Train['Team1 DR A'] = Train.apply(lambda x:get_dr_a(x['Team1'], x['Season']), axis=1)\n",
    "Train['Team2 DR A'] = Train.apply(lambda x:get_dr_a(x['Team2'], x['Season']), axis=1)"
   ]
  },
  {
   "cell_type": "code",
   "execution_count": null,
   "metadata": {
    "pycharm": {
     "name": "#%%\n"
    }
   },
   "outputs": [],
   "source": [
    "def get_to(team, year):\n",
    "    win_df, loss_df, num_games = split_season(team, year)\n",
    "    return (win_df['WTO'].sum() + loss_df['LTO'].sum()) / num_games\n",
    "Train['Team1 TO'] = Train.apply(lambda x:get_to(x['Team1'], x['Season']), axis=1)\n",
    "Train['Team2 TO'] = Train.apply(lambda x:get_to(x['Team2'], x['Season']), axis=1)"
   ]
  },
  {
   "cell_type": "code",
   "execution_count": null,
   "metadata": {
    "pycharm": {
     "name": "#%%\n"
    }
   },
   "outputs": [],
   "source": [
    "def get_ta(team, year):\n",
    "    win_df, loss_df, num_games = split_season(team, year)\n",
    "    return (win_df['LTO'].sum() + loss_df['WTO'].sum()) / num_games\n",
    "Train['Team1 TA'] = Train.apply(lambda x:get_ta(x['Team1'], x['Season']), axis=1)\n",
    "Train['Team2 TA'] = Train.apply(lambda x:get_ta(x['Team2'], x['Season']), axis=1)"
   ]
  },
  {
   "cell_type": "code",
   "execution_count": null,
   "metadata": {
    "pycharm": {
     "name": "#%%\n"
    }
   },
   "outputs": [],
   "source": [
    "Train = Train[[col for col in Train.columns if col != 'Team1 Pts'] + ['Team1 Pts']]\n",
    "Train = Train[[col for col in Train.columns if col != 'Team2 Pts'] + ['Team2 Pts']]\n",
    "Train.dropna(inplace=True)\n",
    "Train.to_csv(f'{ROOT}/Data/Train.csv')"
   ]
  },
  {
   "cell_type": "code",
   "execution_count": null,
   "metadata": {
    "pycharm": {
     "name": "#%%\n"
    }
   },
   "outputs": [],
   "source": [
    "Train"
   ]
  }
 ],
 "metadata": {
  "kernelspec": {
   "display_name": "Python 3 (ipykernel)",
   "language": "python",
   "name": "python3"
  },
  "language_info": {
   "codemirror_mode": {
    "name": "ipython",
    "version": 3
   },
   "file_extension": ".py",
   "mimetype": "text/x-python",
   "name": "python",
   "nbconvert_exporter": "python",
   "pygments_lexer": "ipython3",
   "version": "3.10.2"
  }
 },
 "nbformat": 4,
 "nbformat_minor": 1
}
